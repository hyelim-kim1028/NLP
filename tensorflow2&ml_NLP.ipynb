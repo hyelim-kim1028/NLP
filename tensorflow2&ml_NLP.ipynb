{
  "nbformat": 4,
  "nbformat_minor": 0,
  "metadata": {
    "colab": {
      "name": "tensorflow2&ml_NLP.ipynb",
      "provenance": [],
      "authorship_tag": "ABX9TyOzGUB2ksx+OTQFmxrmo31Q",
      "include_colab_link": true
    },
    "kernelspec": {
      "name": "python3",
      "display_name": "Python 3"
    },
    "language_info": {
      "name": "python"
    }
  },
  "cells": [
    {
      "cell_type": "markdown",
      "metadata": {
        "id": "view-in-github",
        "colab_type": "text"
      },
      "source": [
        "<a href=\"https://colab.research.google.com/github/hyelim-kim1028/NLP/blob/main/tensorflow2%26ml_NLP.ipynb\" target=\"_parent\"><img src=\"https://colab.research.google.com/assets/colab-badge.svg\" alt=\"Open In Colab\"/></a>"
      ]
    },
    {
      "cell_type": "markdown",
      "metadata": {
        "id": "K78R8svUe3vw"
      },
      "source": [
        "#텐서플로2와 머신러닝으로 시작하는 자연어처리 \n",
        "\n",
        "출판사: 위키북스"
      ]
    },
    {
      "cell_type": "markdown",
      "metadata": {
        "id": "Wf9hOdBFfTHd"
      },
      "source": [
        "#01. 들어가며"
      ]
    },
    {
      "cell_type": "code",
      "metadata": {
        "colab": {
          "base_uri": "https://localhost:8080/"
        },
        "id": "2eXWi1QmeydX",
        "outputId": "4ea1962c-2028-4e26-9fb3-575cef95e663"
      },
      "source": [
        "# clone the git rep on colab <!git clone ~> \n",
        "!git clone https://github.com/hyelim-kim1028/tensorflow-ml-nlp-tf2.git"
      ],
      "execution_count": null,
      "outputs": [
        {
          "output_type": "stream",
          "text": [
            "Cloning into 'tensorflow-ml-nlp-tf2'...\n",
            "remote: Enumerating objects: 1715, done.\u001b[K\n",
            "remote: Counting objects: 100% (84/84), done.\u001b[K\n",
            "remote: Compressing objects: 100% (79/79), done.\u001b[K\n",
            "remote: Total 1715 (delta 42), reused 9 (delta 5), pack-reused 1631\u001b[K\n",
            "Receiving objects: 100% (1715/1715), 201.17 MiB | 22.29 MiB/s, done.\n",
            "Resolving deltas: 100% (1032/1032), done.\n",
            "Checking out files: 100% (88/88), done.\n"
          ],
          "name": "stdout"
        }
      ]
    },
    {
      "cell_type": "code",
      "metadata": {
        "colab": {
          "base_uri": "https://localhost:8080/"
        },
        "id": "ox8ET_Lugakl",
        "outputId": "62b8ffee-6c88-4064-bf59-d9188681fb4a"
      },
      "source": [
        "# 필요 라이브버리 설치 <!pip install ~>  \n",
        "#!pip install -r requirements.txt\n",
        "!pip install tensorflow"
      ],
      "execution_count": null,
      "outputs": [
        {
          "output_type": "stream",
          "text": [
            "Requirement already satisfied: tensorflow in /usr/local/lib/python3.7/dist-packages (2.5.0)\n",
            "Requirement already satisfied: termcolor~=1.1.0 in /usr/local/lib/python3.7/dist-packages (from tensorflow) (1.1.0)\n",
            "Requirement already satisfied: keras-nightly~=2.5.0.dev in /usr/local/lib/python3.7/dist-packages (from tensorflow) (2.5.0.dev2021032900)\n",
            "Requirement already satisfied: six~=1.15.0 in /usr/local/lib/python3.7/dist-packages (from tensorflow) (1.15.0)\n",
            "Requirement already satisfied: wrapt~=1.12.1 in /usr/local/lib/python3.7/dist-packages (from tensorflow) (1.12.1)\n",
            "Requirement already satisfied: astunparse~=1.6.3 in /usr/local/lib/python3.7/dist-packages (from tensorflow) (1.6.3)\n",
            "Requirement already satisfied: tensorboard~=2.5 in /usr/local/lib/python3.7/dist-packages (from tensorflow) (2.5.0)\n",
            "Requirement already satisfied: h5py~=3.1.0 in /usr/local/lib/python3.7/dist-packages (from tensorflow) (3.1.0)\n",
            "Requirement already satisfied: google-pasta~=0.2 in /usr/local/lib/python3.7/dist-packages (from tensorflow) (0.2.0)\n",
            "Requirement already satisfied: keras-preprocessing~=1.1.2 in /usr/local/lib/python3.7/dist-packages (from tensorflow) (1.1.2)\n",
            "Requirement already satisfied: protobuf>=3.9.2 in /usr/local/lib/python3.7/dist-packages (from tensorflow) (3.17.3)\n",
            "Requirement already satisfied: typing-extensions~=3.7.4 in /usr/local/lib/python3.7/dist-packages (from tensorflow) (3.7.4.3)\n",
            "Requirement already satisfied: gast==0.4.0 in /usr/local/lib/python3.7/dist-packages (from tensorflow) (0.4.0)\n",
            "Requirement already satisfied: numpy~=1.19.2 in /usr/local/lib/python3.7/dist-packages (from tensorflow) (1.19.5)\n",
            "Requirement already satisfied: wheel~=0.35 in /usr/local/lib/python3.7/dist-packages (from tensorflow) (0.36.2)\n",
            "Requirement already satisfied: absl-py~=0.10 in /usr/local/lib/python3.7/dist-packages (from tensorflow) (0.12.0)\n",
            "Requirement already satisfied: opt-einsum~=3.3.0 in /usr/local/lib/python3.7/dist-packages (from tensorflow) (3.3.0)\n",
            "Requirement already satisfied: flatbuffers~=1.12.0 in /usr/local/lib/python3.7/dist-packages (from tensorflow) (1.12)\n",
            "Requirement already satisfied: tensorflow-estimator<2.6.0,>=2.5.0rc0 in /usr/local/lib/python3.7/dist-packages (from tensorflow) (2.5.0)\n",
            "Requirement already satisfied: grpcio~=1.34.0 in /usr/local/lib/python3.7/dist-packages (from tensorflow) (1.34.1)\n",
            "Requirement already satisfied: cached-property in /usr/local/lib/python3.7/dist-packages (from h5py~=3.1.0->tensorflow) (1.5.2)\n",
            "Requirement already satisfied: tensorboard-plugin-wit>=1.6.0 in /usr/local/lib/python3.7/dist-packages (from tensorboard~=2.5->tensorflow) (1.8.0)\n",
            "Requirement already satisfied: markdown>=2.6.8 in /usr/local/lib/python3.7/dist-packages (from tensorboard~=2.5->tensorflow) (3.3.4)\n",
            "Requirement already satisfied: tensorboard-data-server<0.7.0,>=0.6.0 in /usr/local/lib/python3.7/dist-packages (from tensorboard~=2.5->tensorflow) (0.6.1)\n",
            "Requirement already satisfied: google-auth-oauthlib<0.5,>=0.4.1 in /usr/local/lib/python3.7/dist-packages (from tensorboard~=2.5->tensorflow) (0.4.4)\n",
            "Requirement already satisfied: setuptools>=41.0.0 in /usr/local/lib/python3.7/dist-packages (from tensorboard~=2.5->tensorflow) (57.2.0)\n",
            "Requirement already satisfied: werkzeug>=0.11.15 in /usr/local/lib/python3.7/dist-packages (from tensorboard~=2.5->tensorflow) (1.0.1)\n",
            "Requirement already satisfied: google-auth<2,>=1.6.3 in /usr/local/lib/python3.7/dist-packages (from tensorboard~=2.5->tensorflow) (1.32.1)\n",
            "Requirement already satisfied: requests<3,>=2.21.0 in /usr/local/lib/python3.7/dist-packages (from tensorboard~=2.5->tensorflow) (2.23.0)\n",
            "Requirement already satisfied: rsa<5,>=3.1.4 in /usr/local/lib/python3.7/dist-packages (from google-auth<2,>=1.6.3->tensorboard~=2.5->tensorflow) (4.7.2)\n",
            "Requirement already satisfied: cachetools<5.0,>=2.0.0 in /usr/local/lib/python3.7/dist-packages (from google-auth<2,>=1.6.3->tensorboard~=2.5->tensorflow) (4.2.2)\n",
            "Requirement already satisfied: pyasn1-modules>=0.2.1 in /usr/local/lib/python3.7/dist-packages (from google-auth<2,>=1.6.3->tensorboard~=2.5->tensorflow) (0.2.8)\n",
            "Requirement already satisfied: requests-oauthlib>=0.7.0 in /usr/local/lib/python3.7/dist-packages (from google-auth-oauthlib<0.5,>=0.4.1->tensorboard~=2.5->tensorflow) (1.3.0)\n",
            "Requirement already satisfied: importlib-metadata in /usr/local/lib/python3.7/dist-packages (from markdown>=2.6.8->tensorboard~=2.5->tensorflow) (4.6.1)\n",
            "Requirement already satisfied: pyasn1<0.5.0,>=0.4.6 in /usr/local/lib/python3.7/dist-packages (from pyasn1-modules>=0.2.1->google-auth<2,>=1.6.3->tensorboard~=2.5->tensorflow) (0.4.8)\n",
            "Requirement already satisfied: urllib3!=1.25.0,!=1.25.1,<1.26,>=1.21.1 in /usr/local/lib/python3.7/dist-packages (from requests<3,>=2.21.0->tensorboard~=2.5->tensorflow) (1.24.3)\n",
            "Requirement already satisfied: certifi>=2017.4.17 in /usr/local/lib/python3.7/dist-packages (from requests<3,>=2.21.0->tensorboard~=2.5->tensorflow) (2021.5.30)\n",
            "Requirement already satisfied: chardet<4,>=3.0.2 in /usr/local/lib/python3.7/dist-packages (from requests<3,>=2.21.0->tensorboard~=2.5->tensorflow) (3.0.4)\n",
            "Requirement already satisfied: idna<3,>=2.5 in /usr/local/lib/python3.7/dist-packages (from requests<3,>=2.21.0->tensorboard~=2.5->tensorflow) (2.10)\n",
            "Requirement already satisfied: oauthlib>=3.0.0 in /usr/local/lib/python3.7/dist-packages (from requests-oauthlib>=0.7.0->google-auth-oauthlib<0.5,>=0.4.1->tensorboard~=2.5->tensorflow) (3.1.1)\n",
            "Requirement already satisfied: zipp>=0.5 in /usr/local/lib/python3.7/dist-packages (from importlib-metadata->markdown>=2.6.8->tensorboard~=2.5->tensorflow) (3.5.0)\n"
          ],
          "name": "stdout"
        }
      ]
    },
    {
      "cell_type": "code",
      "metadata": {
        "id": "SDI5OYowwe2Y"
      },
      "source": [
        "import tensorflow as tf"
      ],
      "execution_count": null,
      "outputs": []
    },
    {
      "cell_type": "markdown",
      "metadata": {
        "id": "JmnV8UOqfWu_"
      },
      "source": [
        "#02.자연어 처리 개발 준비\n",
        "\n",
        "- 텐서플로 \n",
        "- 사이킷런 \n",
        "- 자연어 토크나이징 도구\n",
        "- 그 밖의 라이브러리 (전처리) "
      ]
    },
    {
      "cell_type": "code",
      "metadata": {
        "colab": {
          "base_uri": "https://localhost:8080/",
          "height": 204
        },
        "id": "gf-WR87_gUqv",
        "outputId": "429d67d6-b6f5-40a1-e2e7-d653bee968e8"
      },
      "source": [
        "# tf.keras.layers \n",
        "# y = f(Wx + b)\n",
        "\n",
        "W = tf.Variable(tf.random.uniform([5,10], -1.0, 1.0))\n",
        "b = tf.Variable(tf.zeros([10]))\n",
        "\n",
        "y = tf.matmul(W, x) + b\n",
        "# NameError: name 'x' is not defined \n",
        "\n"
      ],
      "execution_count": null,
      "outputs": [
        {
          "output_type": "error",
          "ename": "NameError",
          "evalue": "ignored",
          "traceback": [
            "\u001b[0;31m---------------------------------------------------------------------------\u001b[0m",
            "\u001b[0;31mNameError\u001b[0m                                 Traceback (most recent call last)",
            "\u001b[0;32m<ipython-input-13-b2585bb78d0d>\u001b[0m in \u001b[0;36m<module>\u001b[0;34m()\u001b[0m\n\u001b[1;32m      5\u001b[0m \u001b[0mb\u001b[0m \u001b[0;34m=\u001b[0m \u001b[0mtf\u001b[0m\u001b[0;34m.\u001b[0m\u001b[0mVariable\u001b[0m\u001b[0;34m(\u001b[0m\u001b[0mtf\u001b[0m\u001b[0;34m.\u001b[0m\u001b[0mzeros\u001b[0m\u001b[0;34m(\u001b[0m\u001b[0;34m[\u001b[0m\u001b[0;36m10\u001b[0m\u001b[0;34m]\u001b[0m\u001b[0;34m)\u001b[0m\u001b[0;34m)\u001b[0m\u001b[0;34m\u001b[0m\u001b[0;34m\u001b[0m\u001b[0m\n\u001b[1;32m      6\u001b[0m \u001b[0;34m\u001b[0m\u001b[0m\n\u001b[0;32m----> 7\u001b[0;31m \u001b[0my\u001b[0m \u001b[0;34m=\u001b[0m \u001b[0mtf\u001b[0m\u001b[0;34m.\u001b[0m\u001b[0mmatmul\u001b[0m\u001b[0;34m(\u001b[0m\u001b[0mW\u001b[0m\u001b[0;34m,\u001b[0m \u001b[0mx\u001b[0m\u001b[0;34m)\u001b[0m \u001b[0;34m+\u001b[0m \u001b[0mb\u001b[0m\u001b[0;34m\u001b[0m\u001b[0;34m\u001b[0m\u001b[0m\n\u001b[0m",
            "\u001b[0;31mNameError\u001b[0m: name 'x' is not defined"
          ]
        }
      ]
    },
    {
      "cell_type": "code",
      "metadata": {
        "id": "zLbvaGLvxrMM"
      },
      "source": [
        "# Dense층 객체에 입력값 설정  \n",
        "#1. Dense객체 생성 및 입력값 설정 \n",
        "dense = tf.keras.layers.Dense(...)\n",
        "output = dense(input)\n",
        "\n",
        "#2. 객체 생성 시 입력값 설정 \n",
        "output = tf.keras.layers.Dense(...)(input)\n"
      ],
      "execution_count": null,
      "outputs": []
    },
    {
      "cell_type": "code",
      "metadata": {
        "id": "FOkQcMIRgcgv"
      },
      "source": [
        "#Dense 층에 가중치, 편향 초기화 방법, 활성화 함수의 종류 옵션 설정 \n",
        "\n",
        "__init__(\n",
        "    units,\n",
        "    activation = None, # 활성화 함수 \n",
        "    use_bias = True,  #가중치 \n",
        "    kernel_initializer = 'glorot_uniform',# 가중치 초기화 \n",
        "    bias_initializer = 'zeros', # 편향 초기화 \n",
        "    kernel_regularizer = None, \n",
        "    bias_regularizer = None,\n",
        "    activity_regularizer = None, \n",
        "    kernel_constraint = None, \n",
        "    bias_constraint = None, \n",
        "    **kwargs \n",
        ")"
      ],
      "execution_count": null,
      "outputs": []
    },
    {
      "cell_type": "code",
      "metadata": {
        "id": "NAP6EYc5gcqe"
      },
      "source": [
        "# 신경망 생성 \n",
        "INPUT_SIZE = (20, 1)\n",
        "\n",
        "inputs = tf.keras.layers.Input(shape = INPUT_SIZE)\n",
        "hidden = tf.keras.layers.Dense(units=10, activation = tf.nn.sigmoid)(inputs) #10의 노드 은닉층 \n",
        "output  = tf.keras.layers.Dense(units = 2, activation = tf.nn.sigmoid)(hidden) #2개의 출력 노드 "
      ],
      "execution_count": null,
      "outputs": []
    },
    {
      "cell_type": "code",
      "metadata": {
        "id": "HBJ1BYjNgcza"
      },
      "source": [
        "# tf.keras.layers.Dropout\n",
        "\n",
        "# 1. 객체 생성 후 다시 호출하면서 입력값 설정 \n",
        "dropout = tf.keras.layers.Dropout(...)\n",
        "output = dropout(input)\n",
        "\n",
        "# 2. 객체 생성 시 입력값 설정 \n",
        "output = tf.keras.layers.Dropout(...)(input)\n",
        "\n",
        "__init__(\n",
        "    rate, \n",
        "    noise_shape = None, \n",
        "    seed = None, \n",
        "    **kwargs \n",
        ")"
      ],
      "execution_count": null,
      "outputs": []
    },
    {
      "cell_type": "code",
      "metadata": {
        "id": "KSjuPeMIgc8Q"
      },
      "source": [
        "INPUT_SIZE = (20, 1)\n",
        "\n",
        "inputs = tf.keras.layers.Input(shape = INPUT_SIZE)\n",
        "dropout = tf.keras.layers.Dropout(rate = 0.5)(inputs)\n",
        "\n",
        "# tf.keras.layers.dropout \n",
        "# 0.2 > 20%노드를 0으로 만든다 \n",
        "# tf.nn.dropout \n",
        "# 0.2 > 80%의 노드를 0으로 만든다 "
      ],
      "execution_count": null,
      "outputs": []
    },
    {
      "cell_type": "code",
      "metadata": {
        "id": "hIEW309ZgdEu"
      },
      "source": [
        "#dense층 신경망 구조에 드롭아웃 적용 \n",
        "\n",
        "inputs = tf.keras.layers.Input(shape = INPUT_SIZE)\n",
        "dropout = tf.keras.layers.Dropout(rate=0.2)(input)\n",
        "hidden = tf.keras.layers.Dense(units = 10, activation = tf.nn.sigmoid)(dropout)\n",
        "output = tf.keras.layers.Dense(units = 2, activation = tf.nn.sigmoid )(hidden)\n"
      ],
      "execution_count": null,
      "outputs": []
    },
    {
      "cell_type": "code",
      "metadata": {
        "id": "F633TMy05r4b"
      },
      "source": [
        ""
      ],
      "execution_count": null,
      "outputs": []
    },
    {
      "cell_type": "markdown",
      "metadata": {
        "id": "Po4eLdUNfY8h"
      },
      "source": [
        "#03. 자연어 처리 개요 \n",
        "- 단어표현 \n",
        "- 텍스트 분류\n",
        "- 텍스트 유사도 \n",
        "- 자연어 생성 \n",
        "- 기계 이해 \n",
        "- 데이터 이해하기 \n"
      ]
    },
    {
      "cell_type": "code",
      "metadata": {
        "id": "zEVOsV7cgVe-"
      },
      "source": [
        ""
      ],
      "execution_count": null,
      "outputs": []
    },
    {
      "cell_type": "markdown",
      "metadata": {
        "id": "5ct5vwytfwsn"
      },
      "source": [
        "#04.텍스트 분류\n",
        "\n",
        "- 영어 텍스트 분류 \n",
        "- 한글 텍스트 분류"
      ]
    },
    {
      "cell_type": "code",
      "metadata": {
        "id": "Bfa-g8jygXBq"
      },
      "source": [
        ""
      ],
      "execution_count": null,
      "outputs": []
    },
    {
      "cell_type": "markdown",
      "metadata": {
        "id": "mzVxD1lgfxas"
      },
      "source": [
        "#05.텍스트 유사도\n",
        "- 문제 소개 \n",
        "- 데이터 분석과 전처리 \n",
        "- 모델링 \n",
        "- 정리 "
      ]
    },
    {
      "cell_type": "code",
      "metadata": {
        "id": "R6vDrPeUgYFl"
      },
      "source": [
        ""
      ],
      "execution_count": null,
      "outputs": []
    },
    {
      "cell_type": "markdown",
      "metadata": {
        "id": "0BlLhUVifx5u"
      },
      "source": [
        "#06.챗봇 만들기\n",
        "- 데이터 소개 \n",
        "- 데이터 분석\n",
        "- 시퀀스 투 시퀀스 모델 \n",
        "- 트랜스포머 모델 \n",
        "- 정리 "
      ]
    },
    {
      "cell_type": "code",
      "metadata": {
        "id": "1n4ES4wOgSwb"
      },
      "source": [
        ""
      ],
      "execution_count": null,
      "outputs": []
    },
    {
      "cell_type": "markdown",
      "metadata": {
        "id": "Ba-GbV7ufyWB"
      },
      "source": [
        "#07.사전 학습 모델 \n",
        "- 버트 \n",
        "- 버트를 활용한 미세 조정 학습 \n",
        "- GPT \n",
        "- GPT2를 활용한 미세 조정 학습 \n",
        "- 정리 "
      ]
    },
    {
      "cell_type": "code",
      "metadata": {
        "id": "OCBrW-jEgRab"
      },
      "source": [
        ""
      ],
      "execution_count": null,
      "outputs": []
    },
    {
      "cell_type": "code",
      "metadata": {
        "id": "G0KkE5XRgR5P"
      },
      "source": [
        ""
      ],
      "execution_count": null,
      "outputs": []
    }
  ]
}