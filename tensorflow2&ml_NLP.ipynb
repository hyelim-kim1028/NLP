{
  "nbformat": 4,
  "nbformat_minor": 0,
  "metadata": {
    "colab": {
      "name": "tensorflow2&ml_NLP.ipynb",
      "provenance": [],
      "collapsed_sections": [],
      "authorship_tag": "ABX9TyONsPRRyU/LbpdhaCNOj158",
      "include_colab_link": true
    },
    "kernelspec": {
      "name": "python3",
      "display_name": "Python 3"
    },
    "language_info": {
      "name": "python"
    }
  },
  "cells": [
    {
      "cell_type": "markdown",
      "metadata": {
        "id": "view-in-github",
        "colab_type": "text"
      },
      "source": [
        "<a href=\"https://colab.research.google.com/github/hyelim-kim1028/NLP/blob/main/tensorflow2%26ml_NLP.ipynb\" target=\"_parent\"><img src=\"https://colab.research.google.com/assets/colab-badge.svg\" alt=\"Open In Colab\"/></a>"
      ]
    },
    {
      "cell_type": "markdown",
      "metadata": {
        "id": "K78R8svUe3vw"
      },
      "source": [
        "#텐서플로2와 머신러닝으로 시작하는 자연어처리 \n",
        "\n",
        "출판사: 위키북스"
      ]
    },
    {
      "cell_type": "markdown",
      "metadata": {
        "id": "Wf9hOdBFfTHd"
      },
      "source": [
        "#01. 들어가며"
      ]
    },
    {
      "cell_type": "code",
      "metadata": {
        "colab": {
          "base_uri": "https://localhost:8080/"
        },
        "id": "2eXWi1QmeydX",
        "outputId": "4ea1962c-2028-4e26-9fb3-575cef95e663"
      },
      "source": [
        "# clone the git rep on colab <!git clone ~> \n",
        "!git clone https://github.com/hyelim-kim1028/tensorflow-ml-nlp-tf2.git"
      ],
      "execution_count": null,
      "outputs": [
        {
          "output_type": "stream",
          "text": [
            "Cloning into 'tensorflow-ml-nlp-tf2'...\n",
            "remote: Enumerating objects: 1715, done.\u001b[K\n",
            "remote: Counting objects: 100% (84/84), done.\u001b[K\n",
            "remote: Compressing objects: 100% (79/79), done.\u001b[K\n",
            "remote: Total 1715 (delta 42), reused 9 (delta 5), pack-reused 1631\u001b[K\n",
            "Receiving objects: 100% (1715/1715), 201.17 MiB | 22.29 MiB/s, done.\n",
            "Resolving deltas: 100% (1032/1032), done.\n",
            "Checking out files: 100% (88/88), done.\n"
          ],
          "name": "stdout"
        }
      ]
    },
    {
      "cell_type": "code",
      "metadata": {
        "colab": {
          "base_uri": "https://localhost:8080/"
        },
        "id": "ox8ET_Lugakl",
        "outputId": "62b8ffee-6c88-4064-bf59-d9188681fb4a"
      },
      "source": [
        "# 필요 라이브버리 설치 <!pip install ~>  \n",
        "#!pip install -r requirements.txt\n",
        "!pip install tensorflow"
      ],
      "execution_count": null,
      "outputs": [
        {
          "output_type": "stream",
          "text": [
            "Requirement already satisfied: tensorflow in /usr/local/lib/python3.7/dist-packages (2.5.0)\n",
            "Requirement already satisfied: termcolor~=1.1.0 in /usr/local/lib/python3.7/dist-packages (from tensorflow) (1.1.0)\n",
            "Requirement already satisfied: keras-nightly~=2.5.0.dev in /usr/local/lib/python3.7/dist-packages (from tensorflow) (2.5.0.dev2021032900)\n",
            "Requirement already satisfied: six~=1.15.0 in /usr/local/lib/python3.7/dist-packages (from tensorflow) (1.15.0)\n",
            "Requirement already satisfied: wrapt~=1.12.1 in /usr/local/lib/python3.7/dist-packages (from tensorflow) (1.12.1)\n",
            "Requirement already satisfied: astunparse~=1.6.3 in /usr/local/lib/python3.7/dist-packages (from tensorflow) (1.6.3)\n",
            "Requirement already satisfied: tensorboard~=2.5 in /usr/local/lib/python3.7/dist-packages (from tensorflow) (2.5.0)\n",
            "Requirement already satisfied: h5py~=3.1.0 in /usr/local/lib/python3.7/dist-packages (from tensorflow) (3.1.0)\n",
            "Requirement already satisfied: google-pasta~=0.2 in /usr/local/lib/python3.7/dist-packages (from tensorflow) (0.2.0)\n",
            "Requirement already satisfied: keras-preprocessing~=1.1.2 in /usr/local/lib/python3.7/dist-packages (from tensorflow) (1.1.2)\n",
            "Requirement already satisfied: protobuf>=3.9.2 in /usr/local/lib/python3.7/dist-packages (from tensorflow) (3.17.3)\n",
            "Requirement already satisfied: typing-extensions~=3.7.4 in /usr/local/lib/python3.7/dist-packages (from tensorflow) (3.7.4.3)\n",
            "Requirement already satisfied: gast==0.4.0 in /usr/local/lib/python3.7/dist-packages (from tensorflow) (0.4.0)\n",
            "Requirement already satisfied: numpy~=1.19.2 in /usr/local/lib/python3.7/dist-packages (from tensorflow) (1.19.5)\n",
            "Requirement already satisfied: wheel~=0.35 in /usr/local/lib/python3.7/dist-packages (from tensorflow) (0.36.2)\n",
            "Requirement already satisfied: absl-py~=0.10 in /usr/local/lib/python3.7/dist-packages (from tensorflow) (0.12.0)\n",
            "Requirement already satisfied: opt-einsum~=3.3.0 in /usr/local/lib/python3.7/dist-packages (from tensorflow) (3.3.0)\n",
            "Requirement already satisfied: flatbuffers~=1.12.0 in /usr/local/lib/python3.7/dist-packages (from tensorflow) (1.12)\n",
            "Requirement already satisfied: tensorflow-estimator<2.6.0,>=2.5.0rc0 in /usr/local/lib/python3.7/dist-packages (from tensorflow) (2.5.0)\n",
            "Requirement already satisfied: grpcio~=1.34.0 in /usr/local/lib/python3.7/dist-packages (from tensorflow) (1.34.1)\n",
            "Requirement already satisfied: cached-property in /usr/local/lib/python3.7/dist-packages (from h5py~=3.1.0->tensorflow) (1.5.2)\n",
            "Requirement already satisfied: tensorboard-plugin-wit>=1.6.0 in /usr/local/lib/python3.7/dist-packages (from tensorboard~=2.5->tensorflow) (1.8.0)\n",
            "Requirement already satisfied: markdown>=2.6.8 in /usr/local/lib/python3.7/dist-packages (from tensorboard~=2.5->tensorflow) (3.3.4)\n",
            "Requirement already satisfied: tensorboard-data-server<0.7.0,>=0.6.0 in /usr/local/lib/python3.7/dist-packages (from tensorboard~=2.5->tensorflow) (0.6.1)\n",
            "Requirement already satisfied: google-auth-oauthlib<0.5,>=0.4.1 in /usr/local/lib/python3.7/dist-packages (from tensorboard~=2.5->tensorflow) (0.4.4)\n",
            "Requirement already satisfied: setuptools>=41.0.0 in /usr/local/lib/python3.7/dist-packages (from tensorboard~=2.5->tensorflow) (57.2.0)\n",
            "Requirement already satisfied: werkzeug>=0.11.15 in /usr/local/lib/python3.7/dist-packages (from tensorboard~=2.5->tensorflow) (1.0.1)\n",
            "Requirement already satisfied: google-auth<2,>=1.6.3 in /usr/local/lib/python3.7/dist-packages (from tensorboard~=2.5->tensorflow) (1.32.1)\n",
            "Requirement already satisfied: requests<3,>=2.21.0 in /usr/local/lib/python3.7/dist-packages (from tensorboard~=2.5->tensorflow) (2.23.0)\n",
            "Requirement already satisfied: rsa<5,>=3.1.4 in /usr/local/lib/python3.7/dist-packages (from google-auth<2,>=1.6.3->tensorboard~=2.5->tensorflow) (4.7.2)\n",
            "Requirement already satisfied: cachetools<5.0,>=2.0.0 in /usr/local/lib/python3.7/dist-packages (from google-auth<2,>=1.6.3->tensorboard~=2.5->tensorflow) (4.2.2)\n",
            "Requirement already satisfied: pyasn1-modules>=0.2.1 in /usr/local/lib/python3.7/dist-packages (from google-auth<2,>=1.6.3->tensorboard~=2.5->tensorflow) (0.2.8)\n",
            "Requirement already satisfied: requests-oauthlib>=0.7.0 in /usr/local/lib/python3.7/dist-packages (from google-auth-oauthlib<0.5,>=0.4.1->tensorboard~=2.5->tensorflow) (1.3.0)\n",
            "Requirement already satisfied: importlib-metadata in /usr/local/lib/python3.7/dist-packages (from markdown>=2.6.8->tensorboard~=2.5->tensorflow) (4.6.1)\n",
            "Requirement already satisfied: pyasn1<0.5.0,>=0.4.6 in /usr/local/lib/python3.7/dist-packages (from pyasn1-modules>=0.2.1->google-auth<2,>=1.6.3->tensorboard~=2.5->tensorflow) (0.4.8)\n",
            "Requirement already satisfied: urllib3!=1.25.0,!=1.25.1,<1.26,>=1.21.1 in /usr/local/lib/python3.7/dist-packages (from requests<3,>=2.21.0->tensorboard~=2.5->tensorflow) (1.24.3)\n",
            "Requirement already satisfied: certifi>=2017.4.17 in /usr/local/lib/python3.7/dist-packages (from requests<3,>=2.21.0->tensorboard~=2.5->tensorflow) (2021.5.30)\n",
            "Requirement already satisfied: chardet<4,>=3.0.2 in /usr/local/lib/python3.7/dist-packages (from requests<3,>=2.21.0->tensorboard~=2.5->tensorflow) (3.0.4)\n",
            "Requirement already satisfied: idna<3,>=2.5 in /usr/local/lib/python3.7/dist-packages (from requests<3,>=2.21.0->tensorboard~=2.5->tensorflow) (2.10)\n",
            "Requirement already satisfied: oauthlib>=3.0.0 in /usr/local/lib/python3.7/dist-packages (from requests-oauthlib>=0.7.0->google-auth-oauthlib<0.5,>=0.4.1->tensorboard~=2.5->tensorflow) (3.1.1)\n",
            "Requirement already satisfied: zipp>=0.5 in /usr/local/lib/python3.7/dist-packages (from importlib-metadata->markdown>=2.6.8->tensorboard~=2.5->tensorflow) (3.5.0)\n"
          ],
          "name": "stdout"
        }
      ]
    },
    {
      "cell_type": "code",
      "metadata": {
        "id": "SDI5OYowwe2Y"
      },
      "source": [
        "import tensorflow as tf"
      ],
      "execution_count": null,
      "outputs": []
    },
    {
      "cell_type": "markdown",
      "metadata": {
        "id": "JmnV8UOqfWu_"
      },
      "source": [
        "#02.자연어 처리 개발 준비\n",
        "\n",
        "- 텐서플로 \n",
        "- 사이킷런 \n",
        "- 자연어 토크나이징 도구\n",
        "- 그 밖의 라이브러리 (전처리) "
      ]
    },
    {
      "cell_type": "code",
      "metadata": {
        "colab": {
          "base_uri": "https://localhost:8080/",
          "height": 204
        },
        "id": "gf-WR87_gUqv",
        "outputId": "429d67d6-b6f5-40a1-e2e7-d653bee968e8"
      },
      "source": [
        "# tf.keras.layers \n",
        "# y = f(Wx + b)\n",
        "\n",
        "W = tf.Variable(tf.random.uniform([5,10], -1.0, 1.0))\n",
        "b = tf.Variable(tf.zeros([10]))\n",
        "\n",
        "y = tf.matmul(W, x) + b\n",
        "# NameError: name 'x' is not defined \n",
        "\n"
      ],
      "execution_count": null,
      "outputs": [
        {
          "output_type": "error",
          "ename": "NameError",
          "evalue": "ignored",
          "traceback": [
            "\u001b[0;31m---------------------------------------------------------------------------\u001b[0m",
            "\u001b[0;31mNameError\u001b[0m                                 Traceback (most recent call last)",
            "\u001b[0;32m<ipython-input-13-b2585bb78d0d>\u001b[0m in \u001b[0;36m<module>\u001b[0;34m()\u001b[0m\n\u001b[1;32m      5\u001b[0m \u001b[0mb\u001b[0m \u001b[0;34m=\u001b[0m \u001b[0mtf\u001b[0m\u001b[0;34m.\u001b[0m\u001b[0mVariable\u001b[0m\u001b[0;34m(\u001b[0m\u001b[0mtf\u001b[0m\u001b[0;34m.\u001b[0m\u001b[0mzeros\u001b[0m\u001b[0;34m(\u001b[0m\u001b[0;34m[\u001b[0m\u001b[0;36m10\u001b[0m\u001b[0;34m]\u001b[0m\u001b[0;34m)\u001b[0m\u001b[0;34m)\u001b[0m\u001b[0;34m\u001b[0m\u001b[0;34m\u001b[0m\u001b[0m\n\u001b[1;32m      6\u001b[0m \u001b[0;34m\u001b[0m\u001b[0m\n\u001b[0;32m----> 7\u001b[0;31m \u001b[0my\u001b[0m \u001b[0;34m=\u001b[0m \u001b[0mtf\u001b[0m\u001b[0;34m.\u001b[0m\u001b[0mmatmul\u001b[0m\u001b[0;34m(\u001b[0m\u001b[0mW\u001b[0m\u001b[0;34m,\u001b[0m \u001b[0mx\u001b[0m\u001b[0;34m)\u001b[0m \u001b[0;34m+\u001b[0m \u001b[0mb\u001b[0m\u001b[0;34m\u001b[0m\u001b[0;34m\u001b[0m\u001b[0m\n\u001b[0m",
            "\u001b[0;31mNameError\u001b[0m: name 'x' is not defined"
          ]
        }
      ]
    },
    {
      "cell_type": "code",
      "metadata": {
        "id": "zLbvaGLvxrMM"
      },
      "source": [
        "# Dense층 객체에 입력값 설정  \n",
        "#1. Dense객체 생성 및 입력값 설정 \n",
        "dense = tf.keras.layers.Dense(...)\n",
        "output = dense(input)\n",
        "\n",
        "#2. 객체 생성 시 입력값 설정 \n",
        "output = tf.keras.layers.Dense(...)(input)\n"
      ],
      "execution_count": null,
      "outputs": []
    },
    {
      "cell_type": "code",
      "metadata": {
        "id": "FOkQcMIRgcgv"
      },
      "source": [
        "#Dense 층에 가중치, 편향 초기화 방법, 활성화 함수의 종류 옵션 설정 \n",
        "\n",
        "__init__(\n",
        "    units,\n",
        "    activation = None, # 활성화 함수 \n",
        "    use_bias = True,  #가중치 \n",
        "    kernel_initializer = 'glorot_uniform',# 가중치 초기화 \n",
        "    bias_initializer = 'zeros', # 편향 초기화 \n",
        "    kernel_regularizer = None, \n",
        "    bias_regularizer = None,\n",
        "    activity_regularizer = None, \n",
        "    kernel_constraint = None, \n",
        "    bias_constraint = None, \n",
        "    **kwargs \n",
        ")"
      ],
      "execution_count": null,
      "outputs": []
    },
    {
      "cell_type": "code",
      "metadata": {
        "id": "NAP6EYc5gcqe"
      },
      "source": [
        "# 신경망 생성 \n",
        "INPUT_SIZE = (20, 1)\n",
        "\n",
        "inputs = tf.keras.layers.Input(shape = INPUT_SIZE)\n",
        "hidden = tf.keras.layers.Dense(units=10, activation = tf.nn.sigmoid)(inputs) #10의 노드 은닉층 \n",
        "output  = tf.keras.layers.Dense(units = 2, activation = tf.nn.sigmoid)(hidden) #2개의 출력 노드 "
      ],
      "execution_count": null,
      "outputs": []
    },
    {
      "cell_type": "code",
      "metadata": {
        "id": "HBJ1BYjNgcza"
      },
      "source": [
        "# tf.keras.layers.Dropout\n",
        "\n",
        "# 1. 객체 생성 후 다시 호출하면서 입력값 설정 \n",
        "dropout = tf.keras.layers.Dropout(...)\n",
        "output = dropout(input)\n",
        "\n",
        "# 2. 객체 생성 시 입력값 설정 \n",
        "output = tf.keras.layers.Dropout(...)(input)\n",
        "\n",
        "__init__(\n",
        "    rate, \n",
        "    noise_shape = None, \n",
        "    seed = None, \n",
        "    **kwargs \n",
        ")"
      ],
      "execution_count": null,
      "outputs": []
    },
    {
      "cell_type": "code",
      "metadata": {
        "id": "KSjuPeMIgc8Q"
      },
      "source": [
        "INPUT_SIZE = (20, 1)\n",
        "\n",
        "inputs = tf.keras.layers.Input(shape = INPUT_SIZE)\n",
        "dropout = tf.keras.layers.Dropout(rate = 0.5)(inputs)\n",
        "\n",
        "# tf.keras.layers.dropout \n",
        "# 0.2 > 20%노드를 0으로 만든다 \n",
        "# tf.nn.dropout \n",
        "# 0.2 > 80%의 노드를 0으로 만든다 "
      ],
      "execution_count": null,
      "outputs": []
    },
    {
      "cell_type": "code",
      "metadata": {
        "id": "hIEW309ZgdEu"
      },
      "source": [
        "#dense층 신경망 구조에 드롭아웃 적용 \n",
        "\n",
        "inputs = tf.keras.layers.Input(shape = INPUT_SIZE)\n",
        "dropout = tf.keras.layers.Dropout(rate=0.2)(input)\n",
        "hidden = tf.keras.layers.Dense(units = 10, activation = tf.nn.sigmoid)(dropout)\n",
        "output = tf.keras.layers.Dense(units = 2, activation = tf.nn.sigmoid )(hidden)\n"
      ],
      "execution_count": null,
      "outputs": []
    },
    {
      "cell_type": "code",
      "metadata": {
        "id": "F633TMy05r4b"
      },
      "source": [
        "# 1. 객체 생성 후 다시 호출하면서 입력값 설정 \n",
        "conv1d = tf.keras.layers.Conv1D(...)\n",
        "output = conv1d(input)\n",
        "\n",
        "# 2. 객체 생성 시 입력값 설정 \n",
        "output = tf.keras.layers.Conv1D(...)(input)\n",
        "\n",
        "# 객체 생성 시 전달 인자 \n",
        "__init__(\n",
        "    filters, # 몇개의 필터 사용 \n",
        "    #conv1D는 필터의 가로 길이만 설정 #세로는 1D는 상관 없음 \n",
        "    kernel_size, #필터의 가로 길이 \n",
        "    strides = 1,\n",
        "    padding = 'valid',\n",
        "    data_format = 'channels_last',\n",
        "    dilation_rate = 1,\n",
        "    activation = None, \n",
        "    use_bias = True, \n",
        "    kernel_initializer = 'glorot_uniform',\n",
        "    bias_initializer = 'zeros',\n",
        "    kernel_regularizer = None, \n",
        "    bias_regularizer = None, \n",
        "    activity_regularizer = None, \n",
        "    kernel_constraint = None, \n",
        "    bias_constraint = None, \n",
        "    **kwargs \n",
        ")"
      ],
      "execution_count": null,
      "outputs": []
    },
    {
      "cell_type": "code",
      "metadata": {
        "id": "fn-vWkPEFR-9"
      },
      "source": [
        "# conv1D를 사용한 합성곱 신경망 \n",
        "\n",
        "INPUT_SIZE = (1,28,28)\n",
        "\n",
        "inputs = tf.keras.Input(shape = INPUT_SIZE)\n",
        "conv = tf.keras.layers.Conv1D(\n",
        "    filters = 10,\n",
        "    kernel_size = 3,\n",
        "    padding = 'same',\n",
        "    activation = tf.nn.relu\n",
        ")(inputs)"
      ],
      "execution_count": null,
      "outputs": []
    },
    {
      "cell_type": "code",
      "metadata": {
        "id": "WdwV-rbXFSjI"
      },
      "source": [
        "# dropout 적용 \n",
        "\n",
        "INPUT_SIZE = (1, 28, 28)\n",
        "\n",
        "inputs = tf.keras.Input(shape = INPUT_SIZE)\n",
        "dropout = tf.keras.layers.Dropout(rate = 0.2)(inputs)\n",
        "conv = tf.keras.layers.Conv1D(filters = 10, kernel_size = 3, padding = 'same', activation = tf.nn.relu)(dropout)"
      ],
      "execution_count": null,
      "outputs": []
    },
    {
      "cell_type": "code",
      "metadata": {
        "id": "zTfFx1UgQurW"
      },
      "source": [
        "# tf.keras.layers.MaxPool1D \n",
        "# feature map의 크기를 줄이거나 주요한 특징을 뽑아내기 위해 합성곱 이후에 적용 \n",
        "# max pooling: 최댓값만 뽑아냄 #average pooling: 평균값만 뽑아냄 \n",
        "\n",
        "# MaxPool1D, MaxPool2D, MaxPool3D \n",
        "\n",
        "# 1. 객체 생성 후 apply 함수를 이용해 입력값 설정 \n",
        "max_pool = tf.keras.layers.MaxPool1D(...)\n",
        "max_pool.apply(input)\n",
        "\n",
        "# 2. 객체 생성 시 입력값 설정 \n",
        "max_pool = tf.keras.layers.MaxPool1D(...)(input)\n",
        "\n",
        "__init__(\n",
        "    pool_size = 2, #필터의 크기 \n",
        "    strides = None, # 적용할 스트라이드 값 \n",
        "    padding = 'valid', # same or valid \n",
        "    data_format = None, #channel_last = (batch, length, channels) #channel_first = (batch, channels, length) \n",
        "    **kwargs\n",
        ")"
      ],
      "execution_count": null,
      "outputs": []
    },
    {
      "cell_type": "code",
      "metadata": {
        "id": "J_Q0TXIlQy9r"
      },
      "source": [
        "# maxpooling, dropout 적용 \n",
        "\n",
        "INPUT_SIZE = (1, 28, 28)\n",
        "\n",
        "inputs = tf.keras.Input(shape = INPUT_SIZE)\n",
        "dropout = tf.keras.layers.Dropout(rate = 0.2)(input)\n",
        "conv = tf.keras.layers.Conv1D(\n",
        "    filters = 10,\n",
        "    kernel_size = 3,\n",
        "    padding = 'same',\n",
        "    activation = tf.nn.relu\n",
        ")(input)\n",
        "max_pool = tf.keras.layers.MaxPool1D(pool_size = 3, padding = 'same')(conv)\n",
        "flatten = tf.keras.layers.Flatten()(max_pool)\n",
        "hidden = tf.keras.layers.Dense(units=50, activation = tf.nn.relu)(flatten)\n",
        "output = tf.keras.layers.Dense(units = 10, activation = tf.nn.softmax)(hidden)"
      ],
      "execution_count": null,
      "outputs": []
    },
    {
      "cell_type": "markdown",
      "metadata": {
        "id": "DILac89RY58T"
      },
      "source": [
        "- API clean up \n",
        "- Eager Execution \n",
        "- No more globals \n",
        "- Functions, not sessions "
      ]
    },
    {
      "cell_type": "markdown",
      "metadata": {
        "id": "ss3iW5KEjubT"
      },
      "source": [
        "#- model construction (Keras API) \n",
        "#  - Sequential API \n",
        "#  - Functional API \n",
        "#  - Functional/Sequential API \n",
        "#    +) Custom Layers \n",
        "#  - Subclassing (Custom Model) \n"
      ]
    },
    {
      "cell_type": "code",
      "metadata": {
        "id": "Nb2n21t9Yjd5"
      },
      "source": [
        "# keras #Sequentail API # simpy Fully-connected layer \n",
        "\n",
        "from tensorflow.keras import layers \n",
        "\n",
        "model = tf.keras.Sequential()\n",
        "model.add(layers.Dense(64, activation = 'relu'))\n",
        "model.add(layers.Dense(64, activation = 'relu'))\n",
        "model.add(layers.Dense(10, activation = 'softmax'))\n",
        "\n",
        "# sequential \n",
        "# stack 형에는 접합하지만, 복잡한 구조에는 어려움 \n",
        "# 다중 입력값 모델 (Multi-input models)\n",
        "# 다중 출력값 모델 (Multi-output models)\n",
        "# 공유 층을 활용하는 모델 (Models with shared layers)\n",
        "# 데이터 흐름이 순차적이지 않은 모델 (Models with non-sequential data flows)\n",
        "# Functional API or subclassing 방식 사용 "
      ],
      "execution_count": null,
      "outputs": []
    },
    {
      "cell_type": "code",
      "metadata": {
        "id": "DrzXmZPubj0_"
      },
      "source": [
        "# Functional API \n",
        "inputs = tf.keras.Input(shape=(32,)) # = tf.placeholder0\n",
        "x = layers.Dense(64, activation = 'relu')(inputs)\n",
        "x = layers.Dense(64, activation = 'relu')(x)\n",
        "predictions = layers.Dense(10, activation = 'softmax')(x)"
      ],
      "execution_count": null,
      "outputs": []
    },
    {
      "cell_type": "code",
      "metadata": {
        "id": "AChog3PJQzPP"
      },
      "source": [
        "class CustomLayer(layers.layer):\n",
        "\n",
        "  def __init__(self, hidden_dimension, hidden_dimension2, output_dimension):\n",
        "    self.hidden_dimension = hidden_dimension \n",
        "    self.hidden_dimension2 = hidden_dimension2 \n",
        "    self.output_dimension = output_dimension \n",
        "    super(CustomLayer, self).__init__()\n",
        "\n",
        "  def build(self, input_shape): # 모델 가중치 \n",
        "    self.dense_layer1 = layers.Dense(self.hidden_dimension, activation = 'relu')\n",
        "    self.dense_layer2 = layers.Dense(self.hidden_dimension2, activation = 'relu')\n",
        "    self.dense_layer3 = layers.Dense(self.output_dimenstion, activation = 'softmax')\n",
        "\n",
        "  def call(self, inputs): # 층의 로직 정의 \n",
        "    x = self.dense_layer1(inputs)\n",
        "    x = self.dense_layer2(x)\n",
        "\n",
        "    return self.dense_layer3(x)\n",
        "    "
      ],
      "execution_count": null,
      "outputs": []
    },
    {
      "cell_type": "code",
      "metadata": {
        "id": "3DYjSTA-fl_L"
      },
      "source": [
        "#sequential 모듈 활용 \n",
        "from tensorflow.keras import layers \n",
        "\n",
        "model = tf.keras.Sequential()\n",
        "model.add(CustomLayer(64, 64, 10))\n"
      ],
      "execution_count": null,
      "outputs": []
    },
    {
      "cell_type": "code",
      "metadata": {
        "id": "5HvEmnLGh7sv"
      },
      "source": [
        "# Subclassing (Custom Model)\n",
        "\n",
        "class MyModel(tf.keras.Model):\n",
        "\n",
        "  def __init__(self, hidden_dimension, hidden_dimension2, output_dimension):\n",
        "    # 모델에 사용될 층과 변수 정의 \n",
        "    super(MyModel, self).__init__(name = 'my model')\n",
        "    self.dense_layer1 = layers.Dense(hidden_dimension, activation = 'relu')\n",
        "    self.dense_layer2 = layers.Dense(hidden_dimension2, activation = 'relu')\n",
        "    self.dense_layer3 = layers.Dense(output_dimension, activation = 'softmax')\n",
        "  \n",
        "  def call(self, inputs):\n",
        "    # 모델 연산 진행 \n",
        "    x = self.dense_layer1(inputs)\n",
        "    x = self.dense_layer2(x)\n",
        "\n",
        "    return self.dense_layer3(x)\n"
      ],
      "execution_count": null,
      "outputs": []
    },
    {
      "cell_type": "markdown",
      "metadata": {
        "id": "dCPf7ueEkNPE"
      },
      "source": [
        "#모델 학습 \n",
        "\n",
        "1) keras 내장 API 활용 \n",
        "(i.e. model.fit(), model.evaluate(), model.predict())\n",
        "\n",
        "2) 학습, 검증, 예측 등 모든 과정을 GradientTape 객체를 활용해 직접 구현하는 방법 \n"
      ]
    },
    {
      "cell_type": "code",
      "metadata": {
        "id": "uk7FfVvUQzdF"
      },
      "source": [
        "# 내장 API를 활용하는 방법 \n",
        "\n",
        "# 1. 학습 과정 정의 \n",
        "# 손실 함수 (loss function), 옵티마이저 (optimizer), 평가 지표 (metric)\n",
        "\n",
        "#객체 형식 지정 \n",
        "model.compie(optimizer = tf.keras.optimizers.Adam(),\n",
        "             loss = tf.keras.losses.CategoricalCrossentropy(),\n",
        "             metrics = [tf.keras.metrics.Accuracy()])\n",
        "\n",
        "#문자열 형태 지정 \n",
        "model.compile(optimizer = 'adam', \n",
        "              loss = 'categorical_crossentropy',\n",
        "              metrics = ['accuracy'])\n",
        "\n"
      ],
      "execution_count": null,
      "outputs": []
    },
    {
      "cell_type": "code",
      "metadata": {
        "id": "uqD2zmNaQzow"
      },
      "source": [
        "model.fit(x_train, y_train, \n",
        "          batch_size = 64, \n",
        "          epochs = 3, \n",
        "          validation_data = (x_val, y_val))\n",
        "          # epoch 마다 검증 결과를 보기 위해서는 \n",
        "          # fit 함수의 검증 데이터를 추가로 넣으면 된다 \n",
        "\n"
      ],
      "execution_count": null,
      "outputs": []
    },
    {
      "cell_type": "code",
      "metadata": {
        "id": "q5iFZbCnQz2B"
      },
      "source": [
        "# 더미 데이터를 활용한 감정 분석 모델링 \n",
        "\n",
        "# 입력값: 단어 > 임베딩 벡터 \n",
        "# 백터 평균 > 하나의 백터 \n",
        "# 결과값: 시그모이드, 0~1 \n",
        "\n",
        "# 모델 구현 \n",
        "\n",
        "import tensorflow as tf \n",
        "from tensorflow.keras import preprocessing\n",
        "\n",
        "samples = ['너 오늘 이뻐 보인다',\n",
        "           '나는 오늘 기분이 더러워',\n",
        "           '끝내주는데, 좋은 일이 있나봐',\n",
        "           '나 좋은 일이 생겼어',\n",
        "           '아 오늘 진짜 짜증나',\n",
        "           '환상적인데, 정말 좋은거 같아']\n",
        "\n",
        "labels = [[1],[0],[1],[1],[0],[1]]\n",
        "tokenizer = preprocessing.text.Tokenizer()\n",
        "tokenizer.fit_on_texts(samples)\n",
        "sequences = tokenizer.texts_to_sequences(samples)\n",
        "\n",
        "word_index = tokenizer.word_index"
      ],
      "execution_count": null,
      "outputs": []
    },
    {
      "cell_type": "code",
      "metadata": {
        "id": "F1xn74YnQ0CD"
      },
      "source": [
        "# 모델 구축 및 모델 학습에 필요한 변수 정의 \n",
        "\n",
        "batch_size = 2\n",
        "num_epochs = 100 \n",
        "vocab_size = len(word_index) + 1\n",
        "# 모델 하이퍼 파라미터 (임베딩 층, 은닉층, 출력층)\n",
        "emb_size = 128 \n",
        "hidden_dimension= 256 \n",
        "output_dimension = 1 "
      ],
      "execution_count": null,
      "outputs": []
    },
    {
      "cell_type": "code",
      "metadata": {
        "id": "ytPpn1kj75nA"
      },
      "source": [
        "# Sequential API 를 활용한 심층 신경망 모델 \n",
        "\n",
        "#방법 1 # Sequential 객체 생성 후 각 층 추가 \n",
        "model = tf.keras.Sequential() \n",
        "model.add(layers.Embedding(vocab_size, emb_size, input_length = 4))\n",
        "model.add(layers.Lambda(lambda x: tf.reduce_mean(x, axis = 1)))\n",
        "model.add(layers.Dense(hidden_dimension, activation = 'relu'))\n",
        "model.add(layers.Dense(output_dimension, activation = 'sigmoid'))\n",
        "\n",
        "# 방법 2 # 객체 생성 시 인자로 사용할 층을 순차적으로 리스트로 만들어서 전달 \n",
        "model = tf.keras.Sequential([\n",
        "layers.Embedding(vocab_size, emb_size, input_length = 4),\n",
        "layers.Lambda(lambda x: tf.reduce_mean(x, axis = 1)),\n",
        "layers.Dense(hidden_dimension, activation = 'relu'),\n",
        "layers.Dense(output_dimension, activation = 'sigmoid')                             \n",
        "])\n",
        "\n",
        "# 입력값 embdding 층 추가 \n",
        "# 임베딩 된 단어의 백터 평균 > lambda층 사용 \n",
        "# 0~1 사이 > sigmoid 사용 \n",
        "\n",
        "#모델 컴파일 메서드 # 학습 과정 정의 \n",
        "# 옵티마이저 > Adam 최적화 \n",
        "# 이진분류 > binary cross-entropy \n",
        "# 모델 측정 지표 > accuracy \n",
        "\n",
        "model.compile(optimizer =  tf.keras.optimizers.Adam(0.001),\n",
        "              loss = 'binary_crossentropy',\n",
        "              metrics = ['accuracy']) \n",
        "\n",
        "# fit 메서드 # 학습 진행 \n",
        "model.fit(input_sequences, lables, epochs = num_epochs, batch_size = batch_size)"
      ],
      "execution_count": null,
      "outputs": []
    },
    {
      "cell_type": "code",
      "metadata": {
        "id": "PAm546eA-zu6"
      },
      "source": [
        "# Functional API으로 동일 구현 \n",
        "\n",
        "inputs = layers.Input(shape = (4,))\n",
        "embed_output = layers.Embedding(vocab_size, emb_size)(inputs)\n",
        "pooled_output = tf.reduce_mean(embed_output, axis = 1)\n",
        "hidden_layer = layers.Dense(hidden_dimension, activation = 'relu')(pooled_output)\n",
        "outputs = layers.Dense(output_dimension, activation = 'sigmoid')(hidden_layer)\n",
        "model = tf.keras.model(inputs = inputs, outputs = outputs)\n",
        "\n",
        "model.compile(optimizer = tf.keras.optimizers.Adam(0.001),\n",
        "              loss = 'binary_crossentropy',\n",
        "              metrics = ['accuracy'])\n",
        "model.fit(input_sequences, labels, epochs = num_epochs, batch_size = batch_size)"
      ],
      "execution_count": null,
      "outputs": []
    },
    {
      "cell_type": "code",
      "metadata": {
        "id": "05DDRMyjA7V8"
      },
      "source": [
        "# Subclassing으로 모델 구현 \n",
        "\n",
        "class CustomModel(tf.keras.Model):\n",
        "\n",
        "  def __init__(self, vocab_size, embed_dimension, hidden_dimension, output_dimension):\n",
        "    super(CustomModel, self).__init__(name = 'my_model')\n",
        "    self.embedding = layers.Embedding(vocab_size,embed_dimension)\n",
        "    self.dense_layer = layers.Dense(hidden_dimension, activation = 'relu')\n",
        "    self.output_layer = layers.Dense(output_dimension, activation = 'sigmoid')\n",
        "\n",
        "  def call(self, inputs):\n",
        "    x =self.embedding(inputs)\n",
        "    x = tf.reduce_mean(x, axis = 1)\n",
        "    x = self.dense_layer(x)\n",
        "    x = self.output_layer(x)\n",
        "\n",
        "    return x \n",
        "\n",
        "model = CustomModel(vocab_size = vocab_size, \n",
        "                    embed_dimension = embed_size,\n",
        "                    hidden_dimension = hidden_dimension, \n",
        "                    output_dimension = output_dimension)\n",
        "\n",
        "model.compile(optimizer = tf.keras.optimizers.Adam(0.001),\n",
        "              loss = 'binary_crossentropy',\n",
        "              metrics = ['accuracy'])\n",
        "\n",
        "model.fit(input_sequences, labels, epochs = num_epochs, batch_size = batch_size)\n",
        "\n"
      ],
      "execution_count": null,
      "outputs": []
    },
    {
      "cell_type": "markdown",
      "metadata": {
        "id": "gq9Vi8JFMAFJ"
      },
      "source": [
        "tensorflow 공식 API 문서\n",
        "\n",
        "www.tensorflow.org/api_docs/python/tf"
      ]
    },
    {
      "cell_type": "markdown",
      "metadata": {
        "id": "_ctFrESlCoV5"
      },
      "source": [
        "#Scikit-learn \n",
        "\n",
        "- 머신러닝을 위한 파이썬 라이브러리 \n",
        "<> 딥러닝: tensorflow, keras, pytorch \n",
        "\n",
        "- 지도학습 모듈\n",
        "    - Naive Bayes \n",
        "    - Decision Trees \n",
        "    - Support Vector Machines \n",
        "- 비지도학습 모듈\n",
        "    - Clustering (군집화) \n",
        "    - Gaussian mixture models \n",
        "- 모델 선택 및 평가를 위한 모듈\n",
        "    - 모델 교차 검증 (Cross validation) \n",
        "    - 모델 평가 (Model evaluation) \n",
        "- 데이터 변환 및 데이터 불러오기 모듈\n",
        "    - pipeline \n",
        "    - feature extraction\n",
        "    - preprocessing data\n",
        "    - dimensionality reduction \n",
        "- 계산 성능 향상 모듈 \n"
      ]
    },
    {
      "cell_type": "code",
      "metadata": {
        "id": "8xS1cfm5FSsS",
        "colab": {
          "base_uri": "https://localhost:8080/"
        },
        "outputId": "b84cc347-5f06-4731-ed1d-6434217fe912"
      },
      "source": [
        "# scikit-learn 설치 \n",
        "!pip install scikit-learn"
      ],
      "execution_count": null,
      "outputs": [
        {
          "output_type": "stream",
          "text": [
            "Requirement already satisfied: scikit-learn in /usr/local/lib/python3.7/dist-packages (0.22.2.post1)\n",
            "Requirement already satisfied: numpy>=1.11.0 in /usr/local/lib/python3.7/dist-packages (from scikit-learn) (1.19.5)\n",
            "Requirement already satisfied: joblib>=0.11 in /usr/local/lib/python3.7/dist-packages (from scikit-learn) (1.0.1)\n",
            "Requirement already satisfied: scipy>=0.17.0 in /usr/local/lib/python3.7/dist-packages (from scikit-learn) (1.4.1)\n"
          ],
          "name": "stdout"
        }
      ]
    },
    {
      "cell_type": "code",
      "metadata": {
        "id": "X_QMmcNgFS0g",
        "colab": {
          "base_uri": "https://localhost:8080/",
          "height": 35
        },
        "outputId": "149a46ec-c360-436b-8591-92607260ea66"
      },
      "source": [
        "import sklearn \n",
        "sklearn.__version__"
      ],
      "execution_count": null,
      "outputs": [
        {
          "output_type": "execute_result",
          "data": {
            "application/vnd.google.colaboratory.intrinsic+json": {
              "type": "string"
            },
            "text/plain": [
              "'0.22.2.post1'"
            ]
          },
          "metadata": {
            "tags": []
          },
          "execution_count": 2
        }
      ]
    },
    {
      "cell_type": "code",
      "metadata": {
        "colab": {
          "base_uri": "https://localhost:8080/"
        },
        "id": "qg3hNzNPHUJs",
        "outputId": "a2e26c0c-a058-467b-e562-07f70288998d"
      },
      "source": [
        "# 하나의 데이터 #iris # 두가지 분류모델 \n",
        "# 1. 지도학습모델 (K-nearest neighbor classifier)\n",
        "# 2. 비지도학습모델 (k-means clustering)\n",
        "\n",
        "from sklearn.datasets import load_iris # iris 내장 데이터 불러오기 \n",
        "\n",
        "# 변수 할당 # 데이터 구성 출력 \n",
        "iris_dataset = load_iris()\n",
        "print(\"iris_dataset key: {}\".format(iris_dataset.keys()))\n",
        "\n",
        "print(iris_dataset['data'])\n",
        "print(\"shape of data: {}\".format(iris_dataset['data'].shape))"
      ],
      "execution_count": null,
      "outputs": [
        {
          "output_type": "stream",
          "text": [
            "iris_dataset key: dict_keys(['data', 'target', 'target_names', 'DESCR', 'feature_names', 'filename'])\n",
            "[[5.1 3.5 1.4 0.2]\n",
            " [4.9 3.  1.4 0.2]\n",
            " [4.7 3.2 1.3 0.2]\n",
            " [4.6 3.1 1.5 0.2]\n",
            " [5.  3.6 1.4 0.2]\n",
            " [5.4 3.9 1.7 0.4]\n",
            " [4.6 3.4 1.4 0.3]\n",
            " [5.  3.4 1.5 0.2]\n",
            " [4.4 2.9 1.4 0.2]\n",
            " [4.9 3.1 1.5 0.1]\n",
            " [5.4 3.7 1.5 0.2]\n",
            " [4.8 3.4 1.6 0.2]\n",
            " [4.8 3.  1.4 0.1]\n",
            " [4.3 3.  1.1 0.1]\n",
            " [5.8 4.  1.2 0.2]\n",
            " [5.7 4.4 1.5 0.4]\n",
            " [5.4 3.9 1.3 0.4]\n",
            " [5.1 3.5 1.4 0.3]\n",
            " [5.7 3.8 1.7 0.3]\n",
            " [5.1 3.8 1.5 0.3]\n",
            " [5.4 3.4 1.7 0.2]\n",
            " [5.1 3.7 1.5 0.4]\n",
            " [4.6 3.6 1.  0.2]\n",
            " [5.1 3.3 1.7 0.5]\n",
            " [4.8 3.4 1.9 0.2]\n",
            " [5.  3.  1.6 0.2]\n",
            " [5.  3.4 1.6 0.4]\n",
            " [5.2 3.5 1.5 0.2]\n",
            " [5.2 3.4 1.4 0.2]\n",
            " [4.7 3.2 1.6 0.2]\n",
            " [4.8 3.1 1.6 0.2]\n",
            " [5.4 3.4 1.5 0.4]\n",
            " [5.2 4.1 1.5 0.1]\n",
            " [5.5 4.2 1.4 0.2]\n",
            " [4.9 3.1 1.5 0.2]\n",
            " [5.  3.2 1.2 0.2]\n",
            " [5.5 3.5 1.3 0.2]\n",
            " [4.9 3.6 1.4 0.1]\n",
            " [4.4 3.  1.3 0.2]\n",
            " [5.1 3.4 1.5 0.2]\n",
            " [5.  3.5 1.3 0.3]\n",
            " [4.5 2.3 1.3 0.3]\n",
            " [4.4 3.2 1.3 0.2]\n",
            " [5.  3.5 1.6 0.6]\n",
            " [5.1 3.8 1.9 0.4]\n",
            " [4.8 3.  1.4 0.3]\n",
            " [5.1 3.8 1.6 0.2]\n",
            " [4.6 3.2 1.4 0.2]\n",
            " [5.3 3.7 1.5 0.2]\n",
            " [5.  3.3 1.4 0.2]\n",
            " [7.  3.2 4.7 1.4]\n",
            " [6.4 3.2 4.5 1.5]\n",
            " [6.9 3.1 4.9 1.5]\n",
            " [5.5 2.3 4.  1.3]\n",
            " [6.5 2.8 4.6 1.5]\n",
            " [5.7 2.8 4.5 1.3]\n",
            " [6.3 3.3 4.7 1.6]\n",
            " [4.9 2.4 3.3 1. ]\n",
            " [6.6 2.9 4.6 1.3]\n",
            " [5.2 2.7 3.9 1.4]\n",
            " [5.  2.  3.5 1. ]\n",
            " [5.9 3.  4.2 1.5]\n",
            " [6.  2.2 4.  1. ]\n",
            " [6.1 2.9 4.7 1.4]\n",
            " [5.6 2.9 3.6 1.3]\n",
            " [6.7 3.1 4.4 1.4]\n",
            " [5.6 3.  4.5 1.5]\n",
            " [5.8 2.7 4.1 1. ]\n",
            " [6.2 2.2 4.5 1.5]\n",
            " [5.6 2.5 3.9 1.1]\n",
            " [5.9 3.2 4.8 1.8]\n",
            " [6.1 2.8 4.  1.3]\n",
            " [6.3 2.5 4.9 1.5]\n",
            " [6.1 2.8 4.7 1.2]\n",
            " [6.4 2.9 4.3 1.3]\n",
            " [6.6 3.  4.4 1.4]\n",
            " [6.8 2.8 4.8 1.4]\n",
            " [6.7 3.  5.  1.7]\n",
            " [6.  2.9 4.5 1.5]\n",
            " [5.7 2.6 3.5 1. ]\n",
            " [5.5 2.4 3.8 1.1]\n",
            " [5.5 2.4 3.7 1. ]\n",
            " [5.8 2.7 3.9 1.2]\n",
            " [6.  2.7 5.1 1.6]\n",
            " [5.4 3.  4.5 1.5]\n",
            " [6.  3.4 4.5 1.6]\n",
            " [6.7 3.1 4.7 1.5]\n",
            " [6.3 2.3 4.4 1.3]\n",
            " [5.6 3.  4.1 1.3]\n",
            " [5.5 2.5 4.  1.3]\n",
            " [5.5 2.6 4.4 1.2]\n",
            " [6.1 3.  4.6 1.4]\n",
            " [5.8 2.6 4.  1.2]\n",
            " [5.  2.3 3.3 1. ]\n",
            " [5.6 2.7 4.2 1.3]\n",
            " [5.7 3.  4.2 1.2]\n",
            " [5.7 2.9 4.2 1.3]\n",
            " [6.2 2.9 4.3 1.3]\n",
            " [5.1 2.5 3.  1.1]\n",
            " [5.7 2.8 4.1 1.3]\n",
            " [6.3 3.3 6.  2.5]\n",
            " [5.8 2.7 5.1 1.9]\n",
            " [7.1 3.  5.9 2.1]\n",
            " [6.3 2.9 5.6 1.8]\n",
            " [6.5 3.  5.8 2.2]\n",
            " [7.6 3.  6.6 2.1]\n",
            " [4.9 2.5 4.5 1.7]\n",
            " [7.3 2.9 6.3 1.8]\n",
            " [6.7 2.5 5.8 1.8]\n",
            " [7.2 3.6 6.1 2.5]\n",
            " [6.5 3.2 5.1 2. ]\n",
            " [6.4 2.7 5.3 1.9]\n",
            " [6.8 3.  5.5 2.1]\n",
            " [5.7 2.5 5.  2. ]\n",
            " [5.8 2.8 5.1 2.4]\n",
            " [6.4 3.2 5.3 2.3]\n",
            " [6.5 3.  5.5 1.8]\n",
            " [7.7 3.8 6.7 2.2]\n",
            " [7.7 2.6 6.9 2.3]\n",
            " [6.  2.2 5.  1.5]\n",
            " [6.9 3.2 5.7 2.3]\n",
            " [5.6 2.8 4.9 2. ]\n",
            " [7.7 2.8 6.7 2. ]\n",
            " [6.3 2.7 4.9 1.8]\n",
            " [6.7 3.3 5.7 2.1]\n",
            " [7.2 3.2 6.  1.8]\n",
            " [6.2 2.8 4.8 1.8]\n",
            " [6.1 3.  4.9 1.8]\n",
            " [6.4 2.8 5.6 2.1]\n",
            " [7.2 3.  5.8 1.6]\n",
            " [7.4 2.8 6.1 1.9]\n",
            " [7.9 3.8 6.4 2. ]\n",
            " [6.4 2.8 5.6 2.2]\n",
            " [6.3 2.8 5.1 1.5]\n",
            " [6.1 2.6 5.6 1.4]\n",
            " [7.7 3.  6.1 2.3]\n",
            " [6.3 3.4 5.6 2.4]\n",
            " [6.4 3.1 5.5 1.8]\n",
            " [6.  3.  4.8 1.8]\n",
            " [6.9 3.1 5.4 2.1]\n",
            " [6.7 3.1 5.6 2.4]\n",
            " [6.9 3.1 5.1 2.3]\n",
            " [5.8 2.7 5.1 1.9]\n",
            " [6.8 3.2 5.9 2.3]\n",
            " [6.7 3.3 5.7 2.5]\n",
            " [6.7 3.  5.2 2.3]\n",
            " [6.3 2.5 5.  1.9]\n",
            " [6.5 3.  5.2 2. ]\n",
            " [6.2 3.4 5.4 2.3]\n",
            " [5.9 3.  5.1 1.8]]\n",
            "shape of data: (150, 4)\n"
          ],
          "name": "stdout"
        }
      ]
    },
    {
      "cell_type": "code",
      "metadata": {
        "colab": {
          "base_uri": "https://localhost:8080/"
        },
        "id": "_5Xk-_NdR4Fw",
        "outputId": "bfe040ce-3a03-4b32-a238-2cdc9554e733"
      },
      "source": [
        "print(iris_dataset['feature_names'])\n",
        "print(iris_dataset['target'])\n",
        "print(iris_dataset['target_names'])"
      ],
      "execution_count": null,
      "outputs": [
        {
          "output_type": "stream",
          "text": [
            "['sepal length (cm)', 'sepal width (cm)', 'petal length (cm)', 'petal width (cm)']\n",
            "[0 0 0 0 0 0 0 0 0 0 0 0 0 0 0 0 0 0 0 0 0 0 0 0 0 0 0 0 0 0 0 0 0 0 0 0 0\n",
            " 0 0 0 0 0 0 0 0 0 0 0 0 0 1 1 1 1 1 1 1 1 1 1 1 1 1 1 1 1 1 1 1 1 1 1 1 1\n",
            " 1 1 1 1 1 1 1 1 1 1 1 1 1 1 1 1 1 1 1 1 1 1 1 1 1 1 2 2 2 2 2 2 2 2 2 2 2\n",
            " 2 2 2 2 2 2 2 2 2 2 2 2 2 2 2 2 2 2 2 2 2 2 2 2 2 2 2 2 2 2 2 2 2 2 2 2 2\n",
            " 2 2]\n",
            "['setosa' 'versicolor' 'virginica']\n"
          ],
          "name": "stdout"
        }
      ]
    },
    {
      "cell_type": "code",
      "metadata": {
        "colab": {
          "base_uri": "https://localhost:8080/"
        },
        "id": "GeLz-hs8SGFp",
        "outputId": "4186aa82-5fbd-4c46-ad7b-627f55a83557"
      },
      "source": [
        "print(iris_dataset['DESCR'])"
      ],
      "execution_count": null,
      "outputs": [
        {
          "output_type": "stream",
          "text": [
            ".. _iris_dataset:\n",
            "\n",
            "Iris plants dataset\n",
            "--------------------\n",
            "\n",
            "**Data Set Characteristics:**\n",
            "\n",
            "    :Number of Instances: 150 (50 in each of three classes)\n",
            "    :Number of Attributes: 4 numeric, predictive attributes and the class\n",
            "    :Attribute Information:\n",
            "        - sepal length in cm\n",
            "        - sepal width in cm\n",
            "        - petal length in cm\n",
            "        - petal width in cm\n",
            "        - class:\n",
            "                - Iris-Setosa\n",
            "                - Iris-Versicolour\n",
            "                - Iris-Virginica\n",
            "                \n",
            "    :Summary Statistics:\n",
            "\n",
            "    ============== ==== ==== ======= ===== ====================\n",
            "                    Min  Max   Mean    SD   Class Correlation\n",
            "    ============== ==== ==== ======= ===== ====================\n",
            "    sepal length:   4.3  7.9   5.84   0.83    0.7826\n",
            "    sepal width:    2.0  4.4   3.05   0.43   -0.4194\n",
            "    petal length:   1.0  6.9   3.76   1.76    0.9490  (high!)\n",
            "    petal width:    0.1  2.5   1.20   0.76    0.9565  (high!)\n",
            "    ============== ==== ==== ======= ===== ====================\n",
            "\n",
            "    :Missing Attribute Values: None\n",
            "    :Class Distribution: 33.3% for each of 3 classes.\n",
            "    :Creator: R.A. Fisher\n",
            "    :Donor: Michael Marshall (MARSHALL%PLU@io.arc.nasa.gov)\n",
            "    :Date: July, 1988\n",
            "\n",
            "The famous Iris database, first used by Sir R.A. Fisher. The dataset is taken\n",
            "from Fisher's paper. Note that it's the same as in R, but not as in the UCI\n",
            "Machine Learning Repository, which has two wrong data points.\n",
            "\n",
            "This is perhaps the best known database to be found in the\n",
            "pattern recognition literature.  Fisher's paper is a classic in the field and\n",
            "is referenced frequently to this day.  (See Duda & Hart, for example.)  The\n",
            "data set contains 3 classes of 50 instances each, where each class refers to a\n",
            "type of iris plant.  One class is linearly separable from the other 2; the\n",
            "latter are NOT linearly separable from each other.\n",
            "\n",
            ".. topic:: References\n",
            "\n",
            "   - Fisher, R.A. \"The use of multiple measurements in taxonomic problems\"\n",
            "     Annual Eugenics, 7, Part II, 179-188 (1936); also in \"Contributions to\n",
            "     Mathematical Statistics\" (John Wiley, NY, 1950).\n",
            "   - Duda, R.O., & Hart, P.E. (1973) Pattern Classification and Scene Analysis.\n",
            "     (Q327.D83) John Wiley & Sons.  ISBN 0-471-22361-1.  See page 218.\n",
            "   - Dasarathy, B.V. (1980) \"Nosing Around the Neighborhood: A New System\n",
            "     Structure and Classification Rule for Recognition in Partially Exposed\n",
            "     Environments\".  IEEE Transactions on Pattern Analysis and Machine\n",
            "     Intelligence, Vol. PAMI-2, No. 1, 67-71.\n",
            "   - Gates, G.W. (1972) \"The Reduced Nearest Neighbor Rule\".  IEEE Transactions\n",
            "     on Information Theory, May 1972, 431-433.\n",
            "   - See also: 1988 MLC Proceedings, 54-64.  Cheeseman et al\"s AUTOCLASS II\n",
            "     conceptual clustering system finds 3 classes in the data.\n",
            "   - Many, many more ...\n"
          ],
          "name": "stdout"
        }
      ]
    },
    {
      "cell_type": "markdown",
      "metadata": {
        "id": "WnfRy2qvSt95"
      },
      "source": [
        "#Scikit-learn을 활용한 데이터 분리 \n",
        "\n",
        "- 학습 데이터 > 학습 데이터 & 평가 데이터 \n"
      ]
    },
    {
      "cell_type": "code",
      "metadata": {
        "colab": {
          "base_uri": "https://localhost:8080/"
        },
        "id": "A5seSPuASvGy",
        "outputId": "ebfb6f2b-5dcc-4e56-e2a3-3bf974f42e8c"
      },
      "source": [
        "from sklearn.model_selection import train_test_split\n",
        "\n",
        "train_input,test_input, train_label, test_label = train_test_split(iris_dataset['data'], iris_dataset['target'],test_size = 0.25, random_state = 42)\n",
        "# test_size = 0~1 \n",
        "\n",
        "print(\"shape of train_input: {}\".format(train_input.shape)) #112, 4\n",
        "print(\"shape of test_input:{}\".format(test_input.shape)) #38, 4\n",
        "print(\"shape of train_label: {}\".format(train_label.shape)) #112, \n",
        "print(\"shape of test_label: {}\".format(test_label.shape))#38, \n",
        "\n",
        "# 학습데이터, 평가 데이터, 검증 데이터 \n",
        "# 학습 데이터: 모델 학습 > 검증 데이터: 모델 검증 및 하이퍼파라미터 수정 > 평가 데이터  "
      ],
      "execution_count": null,
      "outputs": [
        {
          "output_type": "stream",
          "text": [
            "shape of train_input: (112, 4)\n",
            "shape of test_input:(38, 4)\n",
            "shape of train_label: (112,)\n",
            "shape of test_label: (38,)\n"
          ],
          "name": "stdout"
        }
      ]
    },
    {
      "cell_type": "code",
      "metadata": {
        "colab": {
          "base_uri": "https://localhost:8080/"
        },
        "id": "OyKpSme1VXuw",
        "outputId": "607d6332-cd75-4c15-e787-3186bf2c2797"
      },
      "source": [
        "# Scikit-learn 지도학습 \n",
        "# K-nearest neighbor classifier \n",
        "# k: 예측하고자 하는 데이터와 가까운 몇개의 데이터를 참고할 것인가 \n",
        "\n",
        "from sklearn.neighbors import KNeighborsClassifier \n",
        "knn = KNeighborsClassifier(n_neighbors = 1)\n",
        "\n",
        "knn.fit(train_input, train_label) #모델에 학습데이터 & 라벨값 적용 \n",
        "\n",
        "KNeighborsClassifier(algorithm = 'auto', leaf_size = 30, metric = 'minkowski',\n",
        "                     metric_params = None, n_jobs = 1,n_neighbors = 1, p = 2, \n",
        "                     weights = 'uniform')\n",
        "\n",
        "# 새로운 데이터 라벨 예측 \n",
        "\n",
        "#임의의 피쳐값 설정 \n",
        "import numpy as np \n",
        "new_input = np.array([[6.1, 2.8, 4.7, 1.2]])\n",
        "knn.predict(new_input) # 1 = Versicolor 로 예측 \n",
        "\n",
        "# 평가 데이터로 예측 \n",
        "predict_label = knn.predict(test_input)\n",
        "print(predict_label)\n",
        "\n",
        "print('test accuracy {:.2f}'.format(np.mean(predict_label == test_label)))"
      ],
      "execution_count": null,
      "outputs": [
        {
          "output_type": "execute_result",
          "data": {
            "text/plain": [
              "KNeighborsClassifier(algorithm='auto', leaf_size=30, metric='minkowski',\n",
              "                     metric_params=None, n_jobs=1, n_neighbors=1, p=2,\n",
              "                     weights='uniform')"
            ]
          },
          "metadata": {
            "tags": []
          },
          "execution_count": 14
        }
      ]
    },
    {
      "cell_type": "code",
      "metadata": {
        "colab": {
          "base_uri": "https://localhost:8080/"
        },
        "id": "bptACgJnWw-O",
        "outputId": "c10ff022-6b28-4bb7-ba92-2884cb35e1d7"
      },
      "source": [
        "# Scikit-learn을 활용한 비지도 학습 \n",
        "\n",
        "# k개 만큼 중심 설정 \n",
        "# 같은 중심 = 같은 군집 \n",
        "\n",
        "from sklearn.cluster import KMeans \n",
        "import numpy as np\n",
        "\n",
        "k_means = KMeans(n_clusters = 3) # 3 = 군집 개수 설정 \n",
        "\n",
        "k_means.fit(train_input) # 군집화 모델에 데이터 적용 \n",
        "\n",
        "# print('test accuracy {:.2f}'.format(np.mean(predict_label == test_label)))\n",
        "\n",
        "# 레이블 값 확인 \n",
        "k_means.labels_\n",
        "\n",
        "# 각 군집의 종의 분포 확인 \n",
        "print(\"0 cluster :\", train_label[k_means.labels_== 0])\n",
        "print(\"1 cluster :\", train_label[k_means.labels_ == 1])\n",
        "print(\"2 cluster :\", train_label[k_means.labels_== 2])\n",
        "# 결과는 군집화 될 때마다 변함 \n",
        "\n",
        "\n",
        "# 임의의 새로운 데이터를 만들어서 진행 (예측)\n",
        "new_input = np.array([[6.1, 2.8, 4.7, 1.2]])\n",
        "prediction = k_means.predict(new_input)\n",
        "print(prediction)\n",
        "\n",
        "# 평가 데이터 적용 # 실제 라벨과 비교 # 성능 측정 \n",
        "predict_cluster = k_means.predict(test_input)\n",
        "print(predict_cluster)\n",
        "\n",
        "# 평가 데이터 적용 예측 군집 #붓꽃의 종 라벨 # 실제 라벨과 성능 비교 \n",
        "np_arr = np.array(predict_cluster)\n",
        "np_arr[np_arr == 0], np_arr[np_arr==1], np_arr[np_arr==2] = 3,4,5\n",
        "np_arr[np_arr==3] = 1\n",
        "np_arr[np_arr==4] = 0 \n",
        "np_arr[np_arr==5] = 2\n",
        "predict_label = np_arr.tolist()\n",
        "print(predict_label)\n",
        "\n",
        "#실제 라벨과 성능 비교 \n",
        "print('test accuracy {:2f}'.format(np.mean(predict_label == test_label)))"
      ],
      "execution_count": null,
      "outputs": [
        {
          "output_type": "execute_result",
          "data": {
            "text/plain": [
              "array([1, 1, 2, 2, 2, 1, 1, 2, 2, 0, 2, 0, 2, 0, 2, 1, 0, 2, 1, 1, 1, 2,\n",
              "       2, 1, 1, 1, 2, 1, 2, 0, 1, 2, 2, 1, 2, 2, 2, 2, 0, 2, 1, 2, 0, 1,\n",
              "       1, 2, 0, 1, 2, 1, 1, 2, 2, 0, 2, 0, 0, 2, 1, 1, 2, 0, 1, 1, 1, 2,\n",
              "       0, 1, 0, 0, 1, 2, 2, 2, 0, 0, 1, 0, 2, 0, 2, 2, 2, 1, 2, 2, 1, 2,\n",
              "       0, 0, 1, 2, 0, 0, 1, 0, 1, 0, 0, 0, 2, 0, 2, 2, 2, 2, 1, 2, 2, 1,\n",
              "       2, 0], dtype=int32)"
            ]
          },
          "metadata": {
            "tags": []
          },
          "execution_count": 14
        }
      ]
    },
    {
      "cell_type": "markdown",
      "metadata": {
        "id": "hjnakQVG5bTl"
      },
      "source": [
        "#사이킷런을 이용한 특징 추출\n",
        "\n",
        "- 자연어 처리에서의 특징 추출 \n",
        "- 텍스트 데이터 (단어 or 문장) > 어떤 특징 값으로 바꿔줌 > 수치화 \n",
        "\n",
        "- Text to Vector \n",
        "\n",
        "1) CountVectorizer # 횟수 기준 \n",
        "\n",
        "    - 객체 만들기 \n",
        "    - 특정 텍스트를 적합 \n",
        "    - 적합: 횟수를 셀 단어의 목록 만들기 \n",
        "    - 횟수를 기준으로 텍스트 벡터화 \n",
        "\n",
        "2) TfidfVectorizer # TF-IDF\n",
        "\n",
        "    - \n",
        "\n",
        "3) HashingVectorizer # 횟수 기준 #함수 사용 # 시간 down # 데이터 크기가 클수록 효율적 "
      ]
    },
    {
      "cell_type": "code",
      "metadata": {
        "colab": {
          "base_uri": "https://localhost:8080/"
        },
        "id": "zy4yn_JCzd1e",
        "outputId": "9c0d7df3-89ce-4e9b-d29e-de0bb1459426"
      },
      "source": [
        "# CountVectorizer \n",
        "\n",
        "from sklearn.feature_extraction.text import CountVectorizer \n",
        "# sklearn.feature_extraction.text: 특징 추출 모듈 \n",
        "\n",
        "# 텍스트 데이터 \n",
        "text_data = ['나는 배가 고프다', '내일 점심 뭐먹지','내일 공부 해야겠다','점심 먹고 공부 해야지']\n",
        "count_vectorizer = CountVectorizer()\n",
        "count_vectorizer.fit(text_data)\n",
        "print(count_vectorizer.vocabulary_) # 데이터 사전 출력 \n",
        "\n",
        "sentence = [text_data[0]]\n",
        "print(count_vectorizer.transform(sentence).toarray())\n"
      ],
      "execution_count": null,
      "outputs": [
        {
          "output_type": "stream",
          "text": [
            "{'나는': 2, '배가': 6, '고프다': 0, '내일': 3, '점심': 7, '뭐먹지': 5, '공부': 1, '해야겠다': 8, '먹고': 4, '해야지': 9}\n",
            "[[1 0 1 0 0 0 1 0 0 0]]\n"
          ],
          "name": "stdout"
        }
      ]
    },
    {
      "cell_type": "code",
      "metadata": {
        "colab": {
          "base_uri": "https://localhost:8080/"
        },
        "id": "NXexZpSS728v",
        "outputId": "6745a6db-356d-4118-f016-456e5aa3c10d"
      },
      "source": [
        "# TfidfVectorizer \n",
        "# TF: term frequency - 특정 단어가 단어의 데이터 안에서 등장하는 횟수 \n",
        "# DF: document frequency - 문서 빈도값, 특정 단어가 여러 데이터에 자주 등장하는가 지표 \n",
        "# IDF: Inverse frequency - DF의 역수 (특정 단어가 등장하지 않을수록 값이 커진다)\n",
        "# TF * IDF : 단어X가 해당 문서에 자주 등장하지만, 다른 문서에는 많이 없는 단어 일수록 높은 값 부여 \n",
        "\n",
        "from sklearn.feature_extraction.text import TfidfVectorizer \n",
        "\n",
        "text_data = ['나는 배가 고프다', '내일 점심 뭐먹지','내일 공부 해야겠다','점심 먹고 공부 해야지']\n",
        "tfidf_vectorizer = TfidfVectorizer()\n",
        "\n",
        "tfidf_vectorizer.fit(text_data)\n",
        "print(tfidf_vectorizer.vocabulary_)\n",
        "\n",
        "sentence = [text_data[3]]\n",
        "print(tfidf_vectorizer.transform(sentence).toarray())"
      ],
      "execution_count": null,
      "outputs": [
        {
          "output_type": "stream",
          "text": [
            "{'나는': 2, '배가': 6, '고프다': 0, '내일': 3, '점심': 7, '뭐먹지': 5, '공부': 1, '해야겠다': 8, '먹고': 4, '해야지': 9}\n",
            "[[0.         0.43779123 0.         0.         0.55528266 0.\n",
            "  0.         0.43779123 0.         0.55528266]]\n"
          ],
          "name": "stdout"
        }
      ]
    },
    {
      "cell_type": "markdown",
      "metadata": {
        "id": "Ujw0MR60GvLb"
      },
      "source": [
        "# 자연어 토크나이징 도구 \n",
        "- 단어/형태소/문장 토크나이징 \n",
        "\n",
        "- 영어 \n",
        "  - NLTK (Natural Language Toolkit) \n",
        "  - Spacy \n",
        "- 한글 "
      ]
    },
    {
      "cell_type": "code",
      "metadata": {
        "id": "8vdWmmzbHp6X"
      },
      "source": [
        ""
      ],
      "execution_count": null,
      "outputs": []
    },
    {
      "cell_type": "code",
      "metadata": {
        "colab": {
          "base_uri": "https://localhost:8080/"
        },
        "id": "2j0JyzNNHM3R",
        "outputId": "cf3169d3-5a80-4a20-f181-8df762ea23c3"
      },
      "source": [
        "#NLTK \n",
        "# !pip install nltk\n",
        "\n",
        "# 말뭉치 연동\n",
        "import nltk \n",
        "# nltk.download() # too many steps and options \n",
        "# solution: https://stackoverflow.com/questions/49085673/download-all-nltk-packages-in-google-colaboratory-at-once\n",
        "nltk.download('all-nltk')"
      ],
      "execution_count": null,
      "outputs": [
        {
          "output_type": "stream",
          "text": [
            "[nltk_data] Downloading collection 'all-nltk'\n",
            "[nltk_data]    | \n",
            "[nltk_data]    | Downloading package abc to /root/nltk_data...\n",
            "[nltk_data]    |   Unzipping corpora/abc.zip.\n",
            "[nltk_data]    | Downloading package alpino to /root/nltk_data...\n",
            "[nltk_data]    |   Unzipping corpora/alpino.zip.\n",
            "[nltk_data]    | Downloading package biocreative_ppi to\n",
            "[nltk_data]    |     /root/nltk_data...\n",
            "[nltk_data]    |   Unzipping corpora/biocreative_ppi.zip.\n",
            "[nltk_data]    | Downloading package brown to /root/nltk_data...\n",
            "[nltk_data]    |   Unzipping corpora/brown.zip.\n",
            "[nltk_data]    | Downloading package brown_tei to /root/nltk_data...\n",
            "[nltk_data]    |   Unzipping corpora/brown_tei.zip.\n",
            "[nltk_data]    | Downloading package cess_cat to /root/nltk_data...\n",
            "[nltk_data]    |   Unzipping corpora/cess_cat.zip.\n",
            "[nltk_data]    | Downloading package cess_esp to /root/nltk_data...\n",
            "[nltk_data]    |   Unzipping corpora/cess_esp.zip.\n",
            "[nltk_data]    | Downloading package chat80 to /root/nltk_data...\n",
            "[nltk_data]    |   Unzipping corpora/chat80.zip.\n",
            "[nltk_data]    | Downloading package city_database to\n",
            "[nltk_data]    |     /root/nltk_data...\n",
            "[nltk_data]    |   Unzipping corpora/city_database.zip.\n",
            "[nltk_data]    | Downloading package cmudict to /root/nltk_data...\n",
            "[nltk_data]    |   Unzipping corpora/cmudict.zip.\n",
            "[nltk_data]    | Downloading package comparative_sentences to\n",
            "[nltk_data]    |     /root/nltk_data...\n",
            "[nltk_data]    |   Unzipping corpora/comparative_sentences.zip.\n",
            "[nltk_data]    | Downloading package comtrans to /root/nltk_data...\n",
            "[nltk_data]    | Downloading package conll2000 to /root/nltk_data...\n",
            "[nltk_data]    |   Unzipping corpora/conll2000.zip.\n",
            "[nltk_data]    | Downloading package conll2002 to /root/nltk_data...\n",
            "[nltk_data]    |   Unzipping corpora/conll2002.zip.\n",
            "[nltk_data]    | Downloading package conll2007 to /root/nltk_data...\n",
            "[nltk_data]    | Downloading package crubadan to /root/nltk_data...\n",
            "[nltk_data]    |   Unzipping corpora/crubadan.zip.\n",
            "[nltk_data]    | Downloading package dependency_treebank to\n",
            "[nltk_data]    |     /root/nltk_data...\n",
            "[nltk_data]    |   Unzipping corpora/dependency_treebank.zip.\n",
            "[nltk_data]    | Downloading package europarl_raw to\n",
            "[nltk_data]    |     /root/nltk_data...\n",
            "[nltk_data]    |   Unzipping corpora/europarl_raw.zip.\n",
            "[nltk_data]    | Downloading package floresta to /root/nltk_data...\n",
            "[nltk_data]    |   Unzipping corpora/floresta.zip.\n",
            "[nltk_data]    | Downloading package framenet_v15 to\n",
            "[nltk_data]    |     /root/nltk_data...\n",
            "[nltk_data]    |   Unzipping corpora/framenet_v15.zip.\n",
            "[nltk_data]    | Downloading package framenet_v17 to\n",
            "[nltk_data]    |     /root/nltk_data...\n",
            "[nltk_data]    |   Unzipping corpora/framenet_v17.zip.\n",
            "[nltk_data]    | Downloading package gazetteers to /root/nltk_data...\n",
            "[nltk_data]    |   Unzipping corpora/gazetteers.zip.\n",
            "[nltk_data]    | Downloading package genesis to /root/nltk_data...\n",
            "[nltk_data]    |   Unzipping corpora/genesis.zip.\n",
            "[nltk_data]    | Downloading package gutenberg to /root/nltk_data...\n",
            "[nltk_data]    |   Unzipping corpora/gutenberg.zip.\n",
            "[nltk_data]    | Downloading package ieer to /root/nltk_data...\n",
            "[nltk_data]    |   Unzipping corpora/ieer.zip.\n",
            "[nltk_data]    | Downloading package inaugural to /root/nltk_data...\n",
            "[nltk_data]    |   Unzipping corpora/inaugural.zip.\n",
            "[nltk_data]    | Downloading package indian to /root/nltk_data...\n",
            "[nltk_data]    |   Unzipping corpora/indian.zip.\n",
            "[nltk_data]    | Downloading package jeita to /root/nltk_data...\n",
            "[nltk_data]    | Downloading package kimmo to /root/nltk_data...\n",
            "[nltk_data]    |   Unzipping corpora/kimmo.zip.\n",
            "[nltk_data]    | Downloading package knbc to /root/nltk_data...\n",
            "[nltk_data]    | Downloading package lin_thesaurus to\n",
            "[nltk_data]    |     /root/nltk_data...\n",
            "[nltk_data]    |   Unzipping corpora/lin_thesaurus.zip.\n",
            "[nltk_data]    | Downloading package mac_morpho to /root/nltk_data...\n",
            "[nltk_data]    |   Unzipping corpora/mac_morpho.zip.\n",
            "[nltk_data]    | Downloading package machado to /root/nltk_data...\n",
            "[nltk_data]    | Downloading package masc_tagged to /root/nltk_data...\n",
            "[nltk_data]    | Downloading package moses_sample to\n",
            "[nltk_data]    |     /root/nltk_data...\n",
            "[nltk_data]    |   Unzipping models/moses_sample.zip.\n",
            "[nltk_data]    | Downloading package movie_reviews to\n",
            "[nltk_data]    |     /root/nltk_data...\n",
            "[nltk_data]    |   Unzipping corpora/movie_reviews.zip.\n",
            "[nltk_data]    | Downloading package names to /root/nltk_data...\n",
            "[nltk_data]    |   Unzipping corpora/names.zip.\n",
            "[nltk_data]    | Downloading package nombank.1.0 to /root/nltk_data...\n",
            "[nltk_data]    | Downloading package nps_chat to /root/nltk_data...\n",
            "[nltk_data]    |   Unzipping corpora/nps_chat.zip.\n",
            "[nltk_data]    | Downloading package omw to /root/nltk_data...\n",
            "[nltk_data]    |   Unzipping corpora/omw.zip.\n",
            "[nltk_data]    | Downloading package opinion_lexicon to\n",
            "[nltk_data]    |     /root/nltk_data...\n",
            "[nltk_data]    |   Unzipping corpora/opinion_lexicon.zip.\n",
            "[nltk_data]    | Downloading package paradigms to /root/nltk_data...\n",
            "[nltk_data]    |   Unzipping corpora/paradigms.zip.\n",
            "[nltk_data]    | Downloading package pil to /root/nltk_data...\n",
            "[nltk_data]    |   Unzipping corpora/pil.zip.\n",
            "[nltk_data]    | Downloading package pl196x to /root/nltk_data...\n",
            "[nltk_data]    |   Unzipping corpora/pl196x.zip.\n",
            "[nltk_data]    | Downloading package ppattach to /root/nltk_data...\n",
            "[nltk_data]    |   Unzipping corpora/ppattach.zip.\n",
            "[nltk_data]    | Downloading package problem_reports to\n",
            "[nltk_data]    |     /root/nltk_data...\n",
            "[nltk_data]    |   Unzipping corpora/problem_reports.zip.\n",
            "[nltk_data]    | Downloading package propbank to /root/nltk_data...\n",
            "[nltk_data]    | Downloading package ptb to /root/nltk_data...\n",
            "[nltk_data]    |   Unzipping corpora/ptb.zip.\n",
            "[nltk_data]    | Downloading package product_reviews_1 to\n",
            "[nltk_data]    |     /root/nltk_data...\n",
            "[nltk_data]    |   Unzipping corpora/product_reviews_1.zip.\n",
            "[nltk_data]    | Downloading package product_reviews_2 to\n",
            "[nltk_data]    |     /root/nltk_data...\n",
            "[nltk_data]    |   Unzipping corpora/product_reviews_2.zip.\n",
            "[nltk_data]    | Downloading package pros_cons to /root/nltk_data...\n",
            "[nltk_data]    |   Unzipping corpora/pros_cons.zip.\n",
            "[nltk_data]    | Downloading package qc to /root/nltk_data...\n",
            "[nltk_data]    |   Unzipping corpora/qc.zip.\n",
            "[nltk_data]    | Downloading package reuters to /root/nltk_data...\n",
            "[nltk_data]    | Downloading package rte to /root/nltk_data...\n",
            "[nltk_data]    |   Unzipping corpora/rte.zip.\n",
            "[nltk_data]    | Downloading package semcor to /root/nltk_data...\n",
            "[nltk_data]    | Downloading package senseval to /root/nltk_data...\n",
            "[nltk_data]    |   Unzipping corpora/senseval.zip.\n",
            "[nltk_data]    | Downloading package sentiwordnet to\n",
            "[nltk_data]    |     /root/nltk_data...\n",
            "[nltk_data]    |   Unzipping corpora/sentiwordnet.zip.\n",
            "[nltk_data]    | Downloading package sentence_polarity to\n",
            "[nltk_data]    |     /root/nltk_data...\n",
            "[nltk_data]    |   Unzipping corpora/sentence_polarity.zip.\n",
            "[nltk_data]    | Downloading package shakespeare to /root/nltk_data...\n",
            "[nltk_data]    |   Unzipping corpora/shakespeare.zip.\n",
            "[nltk_data]    | Downloading package sinica_treebank to\n",
            "[nltk_data]    |     /root/nltk_data...\n",
            "[nltk_data]    |   Unzipping corpora/sinica_treebank.zip.\n",
            "[nltk_data]    | Downloading package smultron to /root/nltk_data...\n",
            "[nltk_data]    |   Unzipping corpora/smultron.zip.\n",
            "[nltk_data]    | Downloading package state_union to /root/nltk_data...\n",
            "[nltk_data]    |   Unzipping corpora/state_union.zip.\n",
            "[nltk_data]    | Downloading package stopwords to /root/nltk_data...\n",
            "[nltk_data]    |   Unzipping corpora/stopwords.zip.\n",
            "[nltk_data]    | Downloading package subjectivity to\n",
            "[nltk_data]    |     /root/nltk_data...\n",
            "[nltk_data]    |   Unzipping corpora/subjectivity.zip.\n",
            "[nltk_data]    | Downloading package swadesh to /root/nltk_data...\n",
            "[nltk_data]    |   Unzipping corpora/swadesh.zip.\n",
            "[nltk_data]    | Downloading package switchboard to /root/nltk_data...\n",
            "[nltk_data]    |   Unzipping corpora/switchboard.zip.\n",
            "[nltk_data]    | Downloading package timit to /root/nltk_data...\n",
            "[nltk_data]    |   Unzipping corpora/timit.zip.\n",
            "[nltk_data]    | Downloading package toolbox to /root/nltk_data...\n",
            "[nltk_data]    |   Unzipping corpora/toolbox.zip.\n",
            "[nltk_data]    | Downloading package treebank to /root/nltk_data...\n",
            "[nltk_data]    |   Unzipping corpora/treebank.zip.\n",
            "[nltk_data]    | Downloading package twitter_samples to\n",
            "[nltk_data]    |     /root/nltk_data...\n",
            "[nltk_data]    |   Unzipping corpora/twitter_samples.zip.\n",
            "[nltk_data]    | Downloading package udhr to /root/nltk_data...\n",
            "[nltk_data]    |   Unzipping corpora/udhr.zip.\n",
            "[nltk_data]    | Downloading package udhr2 to /root/nltk_data...\n",
            "[nltk_data]    |   Unzipping corpora/udhr2.zip.\n",
            "[nltk_data]    | Downloading package unicode_samples to\n",
            "[nltk_data]    |     /root/nltk_data...\n",
            "[nltk_data]    |   Unzipping corpora/unicode_samples.zip.\n",
            "[nltk_data]    | Downloading package universal_treebanks_v20 to\n",
            "[nltk_data]    |     /root/nltk_data...\n",
            "[nltk_data]    | Downloading package verbnet to /root/nltk_data...\n",
            "[nltk_data]    |   Unzipping corpora/verbnet.zip.\n",
            "[nltk_data]    | Downloading package verbnet3 to /root/nltk_data...\n",
            "[nltk_data]    |   Unzipping corpora/verbnet3.zip.\n",
            "[nltk_data]    | Downloading package webtext to /root/nltk_data...\n",
            "[nltk_data]    |   Unzipping corpora/webtext.zip.\n",
            "[nltk_data]    | Downloading package wordnet to /root/nltk_data...\n",
            "[nltk_data]    |   Unzipping corpora/wordnet.zip.\n",
            "[nltk_data]    | Downloading package wordnet_ic to /root/nltk_data...\n",
            "[nltk_data]    |   Unzipping corpora/wordnet_ic.zip.\n",
            "[nltk_data]    | Downloading package words to /root/nltk_data...\n",
            "[nltk_data]    |   Unzipping corpora/words.zip.\n",
            "[nltk_data]    | Downloading package ycoe to /root/nltk_data...\n",
            "[nltk_data]    |   Unzipping corpora/ycoe.zip.\n",
            "[nltk_data]    | Downloading package rslp to /root/nltk_data...\n",
            "[nltk_data]    |   Unzipping stemmers/rslp.zip.\n",
            "[nltk_data]    | Downloading package maxent_treebank_pos_tagger to\n",
            "[nltk_data]    |     /root/nltk_data...\n",
            "[nltk_data]    |   Unzipping taggers/maxent_treebank_pos_tagger.zip.\n",
            "[nltk_data]    | Downloading package universal_tagset to\n",
            "[nltk_data]    |     /root/nltk_data...\n",
            "[nltk_data]    |   Unzipping taggers/universal_tagset.zip.\n",
            "[nltk_data]    | Downloading package maxent_ne_chunker to\n",
            "[nltk_data]    |     /root/nltk_data...\n",
            "[nltk_data]    |   Unzipping chunkers/maxent_ne_chunker.zip.\n",
            "[nltk_data]    | Downloading package punkt to /root/nltk_data...\n",
            "[nltk_data]    |   Unzipping tokenizers/punkt.zip.\n",
            "[nltk_data]    | Downloading package book_grammars to\n",
            "[nltk_data]    |     /root/nltk_data...\n",
            "[nltk_data]    |   Unzipping grammars/book_grammars.zip.\n",
            "[nltk_data]    | Downloading package sample_grammars to\n",
            "[nltk_data]    |     /root/nltk_data...\n",
            "[nltk_data]    |   Unzipping grammars/sample_grammars.zip.\n",
            "[nltk_data]    | Downloading package spanish_grammars to\n",
            "[nltk_data]    |     /root/nltk_data...\n",
            "[nltk_data]    |   Unzipping grammars/spanish_grammars.zip.\n",
            "[nltk_data]    | Downloading package basque_grammars to\n",
            "[nltk_data]    |     /root/nltk_data...\n",
            "[nltk_data]    |   Unzipping grammars/basque_grammars.zip.\n",
            "[nltk_data]    | Downloading package large_grammars to\n",
            "[nltk_data]    |     /root/nltk_data...\n",
            "[nltk_data]    |   Unzipping grammars/large_grammars.zip.\n",
            "[nltk_data]    | Downloading package tagsets to /root/nltk_data...\n",
            "[nltk_data]    |   Unzipping help/tagsets.zip.\n",
            "[nltk_data]    | Downloading package snowball_data to\n",
            "[nltk_data]    |     /root/nltk_data...\n",
            "[nltk_data]    | Downloading package bllip_wsj_no_aux to\n",
            "[nltk_data]    |     /root/nltk_data...\n",
            "[nltk_data]    |   Unzipping models/bllip_wsj_no_aux.zip.\n",
            "[nltk_data]    | Downloading package word2vec_sample to\n",
            "[nltk_data]    |     /root/nltk_data...\n",
            "[nltk_data]    |   Unzipping models/word2vec_sample.zip.\n",
            "[nltk_data]    | Downloading package panlex_swadesh to\n",
            "[nltk_data]    |     /root/nltk_data...\n",
            "[nltk_data]    | Downloading package mte_teip5 to /root/nltk_data...\n",
            "[nltk_data]    |   Unzipping corpora/mte_teip5.zip.\n",
            "[nltk_data]    | Downloading package averaged_perceptron_tagger to\n",
            "[nltk_data]    |     /root/nltk_data...\n",
            "[nltk_data]    |   Unzipping taggers/averaged_perceptron_tagger.zip.\n",
            "[nltk_data]    | Downloading package averaged_perceptron_tagger_ru to\n",
            "[nltk_data]    |     /root/nltk_data...\n",
            "[nltk_data]    |   Unzipping\n",
            "[nltk_data]    |       taggers/averaged_perceptron_tagger_ru.zip.\n",
            "[nltk_data]    | Downloading package perluniprops to\n",
            "[nltk_data]    |     /root/nltk_data...\n",
            "[nltk_data]    |   Unzipping misc/perluniprops.zip.\n",
            "[nltk_data]    | Downloading package nonbreaking_prefixes to\n",
            "[nltk_data]    |     /root/nltk_data...\n",
            "[nltk_data]    |   Unzipping corpora/nonbreaking_prefixes.zip.\n",
            "[nltk_data]    | Downloading package vader_lexicon to\n",
            "[nltk_data]    |     /root/nltk_data...\n",
            "[nltk_data]    | Downloading package porter_test to /root/nltk_data...\n",
            "[nltk_data]    |   Unzipping stemmers/porter_test.zip.\n",
            "[nltk_data]    | Downloading package wmt15_eval to /root/nltk_data...\n",
            "[nltk_data]    |   Unzipping models/wmt15_eval.zip.\n",
            "[nltk_data]    | Downloading package mwa_ppdb to /root/nltk_data...\n",
            "[nltk_data]    |   Unzipping misc/mwa_ppdb.zip.\n",
            "[nltk_data]    | \n",
            "[nltk_data]  Done downloading collection all-nltk\n"
          ],
          "name": "stdout"
        },
        {
          "output_type": "execute_result",
          "data": {
            "text/plain": [
              "True"
            ]
          },
          "metadata": {
            "tags": []
          },
          "execution_count": 35
        }
      ]
    },
    {
      "cell_type": "code",
      "metadata": {
        "colab": {
          "base_uri": "https://localhost:8080/"
        },
        "id": "mhU6BuoxJ7QJ",
        "outputId": "8181507b-efce-457e-e54b-b24dbd3d8a42"
      },
      "source": [
        "# 토크나이징\n",
        "# 특정 기준 단위로 문장을 나누는 것 \n",
        "\n",
        "# 단어 단위 토크나이징 \n",
        "from nltk.tokenize import word_tokenize\n",
        "sentence = \"Natural language processing (NLP) is a subfield of computer science, information engineering, and artificial intelligence concerned with the interactions between computers and human (natural) languages, in particular how to program computers to process and analyze large amoungs of natural language data.\"\n",
        "print(word_tokenize(sentence))\n",
        "\n",
        "# 문장 단위 토크나이징 \n",
        "# 문단 > 문장 > 단어 \n",
        "\n",
        "from nltk.tokenize import sent_tokenize \n",
        "paragraph = \"Natural language\""
      ],
      "execution_count": null,
      "outputs": [
        {
          "output_type": "stream",
          "text": [
            "['Natural', 'language', 'processing', '(', 'NLP', ')', 'is', 'a', 'subfield', 'of', 'computer', 'science', ',', 'information', 'engineering', ',', 'and', 'artificial', 'intelligence', 'concerned', 'with', 'the', 'interactions', 'between', 'computers', 'and', 'human', '(', 'natural', ')', 'languages', ',', 'in', 'particular', 'how', 'to', 'program', 'computers', 'to', 'process', 'and', 'analyze', 'large', 'amoungs', 'of', 'natural', 'language', 'data', '.']\n"
          ],
          "name": "stdout"
        }
      ]
    },
    {
      "cell_type": "markdown",
      "metadata": {
        "id": "Po4eLdUNfY8h"
      },
      "source": [
        "#03. 자연어 처리 개요 \n",
        "- 단어표현 \n",
        "- 텍스트 분류\n",
        "- 텍스트 유사도 \n",
        "- 자연어 생성 \n",
        "- 기계 이해 \n",
        "- 데이터 이해하기 \n"
      ]
    },
    {
      "cell_type": "code",
      "metadata": {
        "id": "zEVOsV7cgVe-"
      },
      "source": [
        ""
      ],
      "execution_count": null,
      "outputs": []
    },
    {
      "cell_type": "markdown",
      "metadata": {
        "id": "5ct5vwytfwsn"
      },
      "source": [
        "#04.텍스트 분류\n",
        "\n",
        "- 영어 텍스트 분류 \n",
        "- 한글 텍스트 분류"
      ]
    },
    {
      "cell_type": "code",
      "metadata": {
        "id": "Bfa-g8jygXBq"
      },
      "source": [
        ""
      ],
      "execution_count": null,
      "outputs": []
    },
    {
      "cell_type": "markdown",
      "metadata": {
        "id": "mzVxD1lgfxas"
      },
      "source": [
        "#05.텍스트 유사도\n",
        "- 문제 소개 \n",
        "- 데이터 분석과 전처리 \n",
        "- 모델링 \n",
        "- 정리 "
      ]
    },
    {
      "cell_type": "code",
      "metadata": {
        "id": "R6vDrPeUgYFl"
      },
      "source": [
        ""
      ],
      "execution_count": null,
      "outputs": []
    },
    {
      "cell_type": "markdown",
      "metadata": {
        "id": "0BlLhUVifx5u"
      },
      "source": [
        "#06.챗봇 만들기\n",
        "- 데이터 소개 \n",
        "- 데이터 분석\n",
        "- 시퀀스 투 시퀀스 모델 \n",
        "- 트랜스포머 모델 \n",
        "- 정리 "
      ]
    },
    {
      "cell_type": "code",
      "metadata": {
        "id": "1n4ES4wOgSwb"
      },
      "source": [
        ""
      ],
      "execution_count": null,
      "outputs": []
    },
    {
      "cell_type": "markdown",
      "metadata": {
        "id": "Ba-GbV7ufyWB"
      },
      "source": [
        "#07.사전 학습 모델 \n",
        "- 버트 \n",
        "- 버트를 활용한 미세 조정 학습 \n",
        "- GPT \n",
        "- GPT2를 활용한 미세 조정 학습 \n",
        "- 정리 "
      ]
    },
    {
      "cell_type": "code",
      "metadata": {
        "id": "OCBrW-jEgRab"
      },
      "source": [
        ""
      ],
      "execution_count": null,
      "outputs": []
    },
    {
      "cell_type": "code",
      "metadata": {
        "id": "G0KkE5XRgR5P"
      },
      "source": [
        ""
      ],
      "execution_count": null,
      "outputs": []
    },
    {
      "cell_type": "code",
      "metadata": {
        "id": "mpU7cqQOQveA"
      },
      "source": [
        ""
      ],
      "execution_count": null,
      "outputs": []
    },
    {
      "cell_type": "code",
      "metadata": {
        "id": "xqtJeaO--ZzU"
      },
      "source": [
        ""
      ],
      "execution_count": null,
      "outputs": []
    },
    {
      "cell_type": "code",
      "metadata": {
        "id": "vTdEcFtgZT7O"
      },
      "source": [
        ""
      ],
      "execution_count": null,
      "outputs": []
    },
    {
      "cell_type": "code",
      "metadata": {
        "id": "HH641OOX71vL"
      },
      "source": [
        ""
      ],
      "execution_count": null,
      "outputs": []
    }
  ]
}